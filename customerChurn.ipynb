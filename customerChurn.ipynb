{
  "cells": [
    {
      "cell_type": "markdown",
      "metadata": {
        "toc": true,
        "id": "ecYheGxPjKpK"
      },
      "source": [
        "<h1>Содержание<span class=\"tocSkip\"></span></h1>\n",
        "<div class=\"toc\"><ul class=\"toc-item\"><li><span><a href=\"#Подготовка-данных\" data-toc-modified-id=\"Подготовка-данных-1\"><span class=\"toc-item-num\">1&nbsp;&nbsp;</span>Подготовка данных</a></span></li><li><span><a href=\"#Исследование-задачи\" data-toc-modified-id=\"Исследование-задачи-2\"><span class=\"toc-item-num\">2&nbsp;&nbsp;</span>Исследование задачи</a></span></li><li><span><a href=\"#Борьба-с-дисбалансом\" data-toc-modified-id=\"Борьба-с-дисбалансом-3\"><span class=\"toc-item-num\">3&nbsp;&nbsp;</span>Борьба с дисбалансом</a></span></li><li><span><a href=\"#Тестирование-модели\" data-toc-modified-id=\"Тестирование-модели-4\"><span class=\"toc-item-num\">4&nbsp;&nbsp;</span>Тестирование модели</a></span>"
      ]
    },
    {
      "cell_type": "markdown",
      "metadata": {
        "id": "GvoZtkDujKpL"
      },
      "source": [
        "# Отток клиентов"
      ]
    },
    {
      "cell_type": "markdown",
      "metadata": {
        "id": "r8Zw6YYGjKpL"
      },
      "source": [
        "Из «Бета-Банка» стали уходить клиенты. Каждый месяц. Немного, но заметно. Банковские маркетологи посчитали: сохранять текущих клиентов дешевле, чем привлекать новых.\n",
        "\n",
        "Нужно спрогнозировать, уйдёт клиент из банка в ближайшее время или нет. Вам предоставлены исторические данные о поведении клиентов и расторжении договоров с банком.\n",
        "\n",
        "Нужно построить модель с предельно большим значением *F1*-меры.\n",
        "\n",
        "Источник данных: [https://www.kaggle.com/barelydedicated/bank-customer-churn-modeling](https://www.kaggle.com/barelydedicated/bank-customer-churn-modeling)"
      ]
    },
    {
      "cell_type": "markdown",
      "metadata": {
        "id": "MBi5Kh3XjKpL"
      },
      "source": [
        "## Подготовка данных"
      ]
    },
    {
      "cell_type": "code",
      "execution_count": null,
      "metadata": {
        "id": "FIeRvOv6jKpM"
      },
      "outputs": [],
      "source": [
        "import pandas as pd\n",
        "pd.options.mode.chained_assignment = None\n",
        "\n",
        "from sklearn.model_selection import train_test_split\n",
        "from sklearn.model_selection import GridSearchCV\n",
        "from sklearn.preprocessing import StandardScaler\n",
        "from sklearn.linear_model import LogisticRegression\n",
        "from sklearn.metrics import confusion_matrix\n",
        "from sklearn.metrics import roc_curve\n",
        "from sklearn.metrics import accuracy_score\n",
        "from sklearn.metrics import f1_score\n",
        "from sklearn.metrics import roc_auc_score\n",
        "from sklearn.ensemble import RandomForestClassifier\n",
        "from sklearn.metrics import mean_absolute_error\n",
        "from sklearn.metrics import recall_score, precision_score\n",
        "from sklearn.utils import shuffle\n",
        "from sklearn.metrics import precision_recall_curve\n",
        "\n",
        "import tensorflow as tf\n",
        "from tensorflow import keras\n",
        "\n",
        "import matplotlib.pyplot as plt\n",
        "\n",
        "import numpy as np\n",
        "\n",
        "import itertools\n",
        "\n",
        "import seaborn as sns"
      ]
    },
    {
      "cell_type": "code",
      "execution_count": null,
      "metadata": {
        "id": "NaQN67B2jKpN",
        "outputId": "e0b736a7-d070-4a6d-bf4a-e71e3a47310e",
        "colab": {
          "base_uri": "https://localhost:8080/",
          "height": 143
        }
      },
      "outputs": [
        {
          "output_type": "execute_result",
          "data": {
            "text/plain": [
              "   RowNumber  CustomerId   Surname  CreditScore Geography  Gender  Age  \\\n",
              "0          1    15634602  Hargrave          619    France  Female   42   \n",
              "1          2    15647311      Hill          608     Spain  Female   41   \n",
              "2          3    15619304      Onio          502    France  Female   42   \n",
              "\n",
              "   Tenure    Balance  NumOfProducts  HasCrCard  IsActiveMember  \\\n",
              "0       2       0.00              1          1               1   \n",
              "1       1   83807.86              1          0               1   \n",
              "2       8  159660.80              3          1               0   \n",
              "\n",
              "   EstimatedSalary  Exited  \n",
              "0        101348.88       1  \n",
              "1        112542.58       0  \n",
              "2        113931.57       1  "
            ],
            "text/html": [
              "\n",
              "  <div id=\"df-dd8c93d3-d04d-40a9-9ab7-03b83c3c87d8\">\n",
              "    <div class=\"colab-df-container\">\n",
              "      <div>\n",
              "<style scoped>\n",
              "    .dataframe tbody tr th:only-of-type {\n",
              "        vertical-align: middle;\n",
              "    }\n",
              "\n",
              "    .dataframe tbody tr th {\n",
              "        vertical-align: top;\n",
              "    }\n",
              "\n",
              "    .dataframe thead th {\n",
              "        text-align: right;\n",
              "    }\n",
              "</style>\n",
              "<table border=\"1\" class=\"dataframe\">\n",
              "  <thead>\n",
              "    <tr style=\"text-align: right;\">\n",
              "      <th></th>\n",
              "      <th>RowNumber</th>\n",
              "      <th>CustomerId</th>\n",
              "      <th>Surname</th>\n",
              "      <th>CreditScore</th>\n",
              "      <th>Geography</th>\n",
              "      <th>Gender</th>\n",
              "      <th>Age</th>\n",
              "      <th>Tenure</th>\n",
              "      <th>Balance</th>\n",
              "      <th>NumOfProducts</th>\n",
              "      <th>HasCrCard</th>\n",
              "      <th>IsActiveMember</th>\n",
              "      <th>EstimatedSalary</th>\n",
              "      <th>Exited</th>\n",
              "    </tr>\n",
              "  </thead>\n",
              "  <tbody>\n",
              "    <tr>\n",
              "      <th>0</th>\n",
              "      <td>1</td>\n",
              "      <td>15634602</td>\n",
              "      <td>Hargrave</td>\n",
              "      <td>619</td>\n",
              "      <td>France</td>\n",
              "      <td>Female</td>\n",
              "      <td>42</td>\n",
              "      <td>2</td>\n",
              "      <td>0.00</td>\n",
              "      <td>1</td>\n",
              "      <td>1</td>\n",
              "      <td>1</td>\n",
              "      <td>101348.88</td>\n",
              "      <td>1</td>\n",
              "    </tr>\n",
              "    <tr>\n",
              "      <th>1</th>\n",
              "      <td>2</td>\n",
              "      <td>15647311</td>\n",
              "      <td>Hill</td>\n",
              "      <td>608</td>\n",
              "      <td>Spain</td>\n",
              "      <td>Female</td>\n",
              "      <td>41</td>\n",
              "      <td>1</td>\n",
              "      <td>83807.86</td>\n",
              "      <td>1</td>\n",
              "      <td>0</td>\n",
              "      <td>1</td>\n",
              "      <td>112542.58</td>\n",
              "      <td>0</td>\n",
              "    </tr>\n",
              "    <tr>\n",
              "      <th>2</th>\n",
              "      <td>3</td>\n",
              "      <td>15619304</td>\n",
              "      <td>Onio</td>\n",
              "      <td>502</td>\n",
              "      <td>France</td>\n",
              "      <td>Female</td>\n",
              "      <td>42</td>\n",
              "      <td>8</td>\n",
              "      <td>159660.80</td>\n",
              "      <td>3</td>\n",
              "      <td>1</td>\n",
              "      <td>0</td>\n",
              "      <td>113931.57</td>\n",
              "      <td>1</td>\n",
              "    </tr>\n",
              "  </tbody>\n",
              "</table>\n",
              "</div>\n",
              "      <button class=\"colab-df-convert\" onclick=\"convertToInteractive('df-dd8c93d3-d04d-40a9-9ab7-03b83c3c87d8')\"\n",
              "              title=\"Convert this dataframe to an interactive table.\"\n",
              "              style=\"display:none;\">\n",
              "        \n",
              "  <svg xmlns=\"http://www.w3.org/2000/svg\" height=\"24px\"viewBox=\"0 0 24 24\"\n",
              "       width=\"24px\">\n",
              "    <path d=\"M0 0h24v24H0V0z\" fill=\"none\"/>\n",
              "    <path d=\"M18.56 5.44l.94 2.06.94-2.06 2.06-.94-2.06-.94-.94-2.06-.94 2.06-2.06.94zm-11 1L8.5 8.5l.94-2.06 2.06-.94-2.06-.94L8.5 2.5l-.94 2.06-2.06.94zm10 10l.94 2.06.94-2.06 2.06-.94-2.06-.94-.94-2.06-.94 2.06-2.06.94z\"/><path d=\"M17.41 7.96l-1.37-1.37c-.4-.4-.92-.59-1.43-.59-.52 0-1.04.2-1.43.59L10.3 9.45l-7.72 7.72c-.78.78-.78 2.05 0 2.83L4 21.41c.39.39.9.59 1.41.59.51 0 1.02-.2 1.41-.59l7.78-7.78 2.81-2.81c.8-.78.8-2.07 0-2.86zM5.41 20L4 18.59l7.72-7.72 1.47 1.35L5.41 20z\"/>\n",
              "  </svg>\n",
              "      </button>\n",
              "      \n",
              "  <style>\n",
              "    .colab-df-container {\n",
              "      display:flex;\n",
              "      flex-wrap:wrap;\n",
              "      gap: 12px;\n",
              "    }\n",
              "\n",
              "    .colab-df-convert {\n",
              "      background-color: #E8F0FE;\n",
              "      border: none;\n",
              "      border-radius: 50%;\n",
              "      cursor: pointer;\n",
              "      display: none;\n",
              "      fill: #1967D2;\n",
              "      height: 32px;\n",
              "      padding: 0 0 0 0;\n",
              "      width: 32px;\n",
              "    }\n",
              "\n",
              "    .colab-df-convert:hover {\n",
              "      background-color: #E2EBFA;\n",
              "      box-shadow: 0px 1px 2px rgba(60, 64, 67, 0.3), 0px 1px 3px 1px rgba(60, 64, 67, 0.15);\n",
              "      fill: #174EA6;\n",
              "    }\n",
              "\n",
              "    [theme=dark] .colab-df-convert {\n",
              "      background-color: #3B4455;\n",
              "      fill: #D2E3FC;\n",
              "    }\n",
              "\n",
              "    [theme=dark] .colab-df-convert:hover {\n",
              "      background-color: #434B5C;\n",
              "      box-shadow: 0px 1px 3px 1px rgba(0, 0, 0, 0.15);\n",
              "      filter: drop-shadow(0px 1px 2px rgba(0, 0, 0, 0.3));\n",
              "      fill: #FFFFFF;\n",
              "    }\n",
              "  </style>\n",
              "\n",
              "      <script>\n",
              "        const buttonEl =\n",
              "          document.querySelector('#df-dd8c93d3-d04d-40a9-9ab7-03b83c3c87d8 button.colab-df-convert');\n",
              "        buttonEl.style.display =\n",
              "          google.colab.kernel.accessAllowed ? 'block' : 'none';\n",
              "\n",
              "        async function convertToInteractive(key) {\n",
              "          const element = document.querySelector('#df-dd8c93d3-d04d-40a9-9ab7-03b83c3c87d8');\n",
              "          const dataTable =\n",
              "            await google.colab.kernel.invokeFunction('convertToInteractive',\n",
              "                                                     [key], {});\n",
              "          if (!dataTable) return;\n",
              "\n",
              "          const docLinkHtml = 'Like what you see? Visit the ' +\n",
              "            '<a target=\"_blank\" href=https://colab.research.google.com/notebooks/data_table.ipynb>data table notebook</a>'\n",
              "            + ' to learn more about interactive tables.';\n",
              "          element.innerHTML = '';\n",
              "          dataTable['output_type'] = 'display_data';\n",
              "          await google.colab.output.renderOutput(dataTable, element);\n",
              "          const docLink = document.createElement('div');\n",
              "          docLink.innerHTML = docLinkHtml;\n",
              "          element.appendChild(docLink);\n",
              "        }\n",
              "      </script>\n",
              "    </div>\n",
              "  </div>\n",
              "  "
            ]
          },
          "metadata": {},
          "execution_count": 3
        }
      ],
      "source": [
        "df = pd.read_csv('/content/drive/MyDrive/Projects/ynd/on GitHub/Churn_Modelling.csv')\n",
        "df.head(3)"
      ]
    },
    {
      "cell_type": "code",
      "execution_count": null,
      "metadata": {
        "id": "UNGuHkEojKpN",
        "outputId": "27d89f3a-7e9c-4392-d0b8-6c7296c98b6c",
        "colab": {
          "base_uri": "https://localhost:8080/"
        }
      },
      "outputs": [
        {
          "output_type": "stream",
          "name": "stdout",
          "text": [
            "<class 'pandas.core.frame.DataFrame'>\n",
            "RangeIndex: 10000 entries, 0 to 9999\n",
            "Data columns (total 14 columns):\n",
            " #   Column           Non-Null Count  Dtype  \n",
            "---  ------           --------------  -----  \n",
            " 0   RowNumber        10000 non-null  int64  \n",
            " 1   CustomerId       10000 non-null  int64  \n",
            " 2   Surname          10000 non-null  object \n",
            " 3   CreditScore      10000 non-null  int64  \n",
            " 4   Geography        10000 non-null  object \n",
            " 5   Gender           10000 non-null  object \n",
            " 6   Age              10000 non-null  int64  \n",
            " 7   Tenure           10000 non-null  int64  \n",
            " 8   Balance          10000 non-null  float64\n",
            " 9   NumOfProducts    10000 non-null  int64  \n",
            " 10  HasCrCard        10000 non-null  int64  \n",
            " 11  IsActiveMember   10000 non-null  int64  \n",
            " 12  EstimatedSalary  10000 non-null  float64\n",
            " 13  Exited           10000 non-null  int64  \n",
            "dtypes: float64(2), int64(9), object(3)\n",
            "memory usage: 1.1+ MB\n"
          ]
        }
      ],
      "source": [
        "df.info()"
      ]
    },
    {
      "cell_type": "code",
      "execution_count": null,
      "metadata": {
        "id": "Zamag0_BjKpN"
      },
      "outputs": [],
      "source": [
        "df.drop(['Surname', 'RowNumber', 'CustomerId'], axis=1, inplace=True)"
      ]
    },
    {
      "cell_type": "markdown",
      "metadata": {
        "id": "95x0A4Q2jKpO"
      },
      "source": [
        "One-hot encoding"
      ]
    },
    {
      "cell_type": "code",
      "execution_count": null,
      "metadata": {
        "id": "fnkuyHB-jKpO"
      },
      "outputs": [],
      "source": [
        "df_ohe = pd.get_dummies(df, drop_first=True)"
      ]
    },
    {
      "cell_type": "code",
      "execution_count": null,
      "metadata": {
        "id": "tgZ568pQjKpO",
        "outputId": "d86a26e3-6301-45c6-c4ca-70ab8781d09e",
        "colab": {
          "base_uri": "https://localhost:8080/",
          "height": 143
        }
      },
      "outputs": [
        {
          "output_type": "execute_result",
          "data": {
            "text/plain": [
              "   CreditScore  Age  Tenure    Balance  NumOfProducts  HasCrCard  \\\n",
              "0          619   42       2       0.00              1          1   \n",
              "1          608   41       1   83807.86              1          0   \n",
              "2          502   42       8  159660.80              3          1   \n",
              "\n",
              "   IsActiveMember  EstimatedSalary  Exited  Geography_Germany  \\\n",
              "0               1        101348.88       1                  0   \n",
              "1               1        112542.58       0                  0   \n",
              "2               0        113931.57       1                  0   \n",
              "\n",
              "   Geography_Spain  Gender_Male  \n",
              "0                0            0  \n",
              "1                1            0  \n",
              "2                0            0  "
            ],
            "text/html": [
              "\n",
              "  <div id=\"df-3f39a3c9-4a2d-4cfc-b529-d42bc850f373\">\n",
              "    <div class=\"colab-df-container\">\n",
              "      <div>\n",
              "<style scoped>\n",
              "    .dataframe tbody tr th:only-of-type {\n",
              "        vertical-align: middle;\n",
              "    }\n",
              "\n",
              "    .dataframe tbody tr th {\n",
              "        vertical-align: top;\n",
              "    }\n",
              "\n",
              "    .dataframe thead th {\n",
              "        text-align: right;\n",
              "    }\n",
              "</style>\n",
              "<table border=\"1\" class=\"dataframe\">\n",
              "  <thead>\n",
              "    <tr style=\"text-align: right;\">\n",
              "      <th></th>\n",
              "      <th>CreditScore</th>\n",
              "      <th>Age</th>\n",
              "      <th>Tenure</th>\n",
              "      <th>Balance</th>\n",
              "      <th>NumOfProducts</th>\n",
              "      <th>HasCrCard</th>\n",
              "      <th>IsActiveMember</th>\n",
              "      <th>EstimatedSalary</th>\n",
              "      <th>Exited</th>\n",
              "      <th>Geography_Germany</th>\n",
              "      <th>Geography_Spain</th>\n",
              "      <th>Gender_Male</th>\n",
              "    </tr>\n",
              "  </thead>\n",
              "  <tbody>\n",
              "    <tr>\n",
              "      <th>0</th>\n",
              "      <td>619</td>\n",
              "      <td>42</td>\n",
              "      <td>2</td>\n",
              "      <td>0.00</td>\n",
              "      <td>1</td>\n",
              "      <td>1</td>\n",
              "      <td>1</td>\n",
              "      <td>101348.88</td>\n",
              "      <td>1</td>\n",
              "      <td>0</td>\n",
              "      <td>0</td>\n",
              "      <td>0</td>\n",
              "    </tr>\n",
              "    <tr>\n",
              "      <th>1</th>\n",
              "      <td>608</td>\n",
              "      <td>41</td>\n",
              "      <td>1</td>\n",
              "      <td>83807.86</td>\n",
              "      <td>1</td>\n",
              "      <td>0</td>\n",
              "      <td>1</td>\n",
              "      <td>112542.58</td>\n",
              "      <td>0</td>\n",
              "      <td>0</td>\n",
              "      <td>1</td>\n",
              "      <td>0</td>\n",
              "    </tr>\n",
              "    <tr>\n",
              "      <th>2</th>\n",
              "      <td>502</td>\n",
              "      <td>42</td>\n",
              "      <td>8</td>\n",
              "      <td>159660.80</td>\n",
              "      <td>3</td>\n",
              "      <td>1</td>\n",
              "      <td>0</td>\n",
              "      <td>113931.57</td>\n",
              "      <td>1</td>\n",
              "      <td>0</td>\n",
              "      <td>0</td>\n",
              "      <td>0</td>\n",
              "    </tr>\n",
              "  </tbody>\n",
              "</table>\n",
              "</div>\n",
              "      <button class=\"colab-df-convert\" onclick=\"convertToInteractive('df-3f39a3c9-4a2d-4cfc-b529-d42bc850f373')\"\n",
              "              title=\"Convert this dataframe to an interactive table.\"\n",
              "              style=\"display:none;\">\n",
              "        \n",
              "  <svg xmlns=\"http://www.w3.org/2000/svg\" height=\"24px\"viewBox=\"0 0 24 24\"\n",
              "       width=\"24px\">\n",
              "    <path d=\"M0 0h24v24H0V0z\" fill=\"none\"/>\n",
              "    <path d=\"M18.56 5.44l.94 2.06.94-2.06 2.06-.94-2.06-.94-.94-2.06-.94 2.06-2.06.94zm-11 1L8.5 8.5l.94-2.06 2.06-.94-2.06-.94L8.5 2.5l-.94 2.06-2.06.94zm10 10l.94 2.06.94-2.06 2.06-.94-2.06-.94-.94-2.06-.94 2.06-2.06.94z\"/><path d=\"M17.41 7.96l-1.37-1.37c-.4-.4-.92-.59-1.43-.59-.52 0-1.04.2-1.43.59L10.3 9.45l-7.72 7.72c-.78.78-.78 2.05 0 2.83L4 21.41c.39.39.9.59 1.41.59.51 0 1.02-.2 1.41-.59l7.78-7.78 2.81-2.81c.8-.78.8-2.07 0-2.86zM5.41 20L4 18.59l7.72-7.72 1.47 1.35L5.41 20z\"/>\n",
              "  </svg>\n",
              "      </button>\n",
              "      \n",
              "  <style>\n",
              "    .colab-df-container {\n",
              "      display:flex;\n",
              "      flex-wrap:wrap;\n",
              "      gap: 12px;\n",
              "    }\n",
              "\n",
              "    .colab-df-convert {\n",
              "      background-color: #E8F0FE;\n",
              "      border: none;\n",
              "      border-radius: 50%;\n",
              "      cursor: pointer;\n",
              "      display: none;\n",
              "      fill: #1967D2;\n",
              "      height: 32px;\n",
              "      padding: 0 0 0 0;\n",
              "      width: 32px;\n",
              "    }\n",
              "\n",
              "    .colab-df-convert:hover {\n",
              "      background-color: #E2EBFA;\n",
              "      box-shadow: 0px 1px 2px rgba(60, 64, 67, 0.3), 0px 1px 3px 1px rgba(60, 64, 67, 0.15);\n",
              "      fill: #174EA6;\n",
              "    }\n",
              "\n",
              "    [theme=dark] .colab-df-convert {\n",
              "      background-color: #3B4455;\n",
              "      fill: #D2E3FC;\n",
              "    }\n",
              "\n",
              "    [theme=dark] .colab-df-convert:hover {\n",
              "      background-color: #434B5C;\n",
              "      box-shadow: 0px 1px 3px 1px rgba(0, 0, 0, 0.15);\n",
              "      filter: drop-shadow(0px 1px 2px rgba(0, 0, 0, 0.3));\n",
              "      fill: #FFFFFF;\n",
              "    }\n",
              "  </style>\n",
              "\n",
              "      <script>\n",
              "        const buttonEl =\n",
              "          document.querySelector('#df-3f39a3c9-4a2d-4cfc-b529-d42bc850f373 button.colab-df-convert');\n",
              "        buttonEl.style.display =\n",
              "          google.colab.kernel.accessAllowed ? 'block' : 'none';\n",
              "\n",
              "        async function convertToInteractive(key) {\n",
              "          const element = document.querySelector('#df-3f39a3c9-4a2d-4cfc-b529-d42bc850f373');\n",
              "          const dataTable =\n",
              "            await google.colab.kernel.invokeFunction('convertToInteractive',\n",
              "                                                     [key], {});\n",
              "          if (!dataTable) return;\n",
              "\n",
              "          const docLinkHtml = 'Like what you see? Visit the ' +\n",
              "            '<a target=\"_blank\" href=https://colab.research.google.com/notebooks/data_table.ipynb>data table notebook</a>'\n",
              "            + ' to learn more about interactive tables.';\n",
              "          element.innerHTML = '';\n",
              "          dataTable['output_type'] = 'display_data';\n",
              "          await google.colab.output.renderOutput(dataTable, element);\n",
              "          const docLink = document.createElement('div');\n",
              "          docLink.innerHTML = docLinkHtml;\n",
              "          element.appendChild(docLink);\n",
              "        }\n",
              "      </script>\n",
              "    </div>\n",
              "  </div>\n",
              "  "
            ]
          },
          "metadata": {},
          "execution_count": 7
        }
      ],
      "source": [
        "df_ohe.head(3)"
      ]
    },
    {
      "cell_type": "markdown",
      "metadata": {
        "id": "QKmAvApajKpP"
      },
      "source": [
        "Проверка на пропуски показала, что значение Tenure, сколько человек в банке в годах, имеет 909 пропусков."
      ]
    },
    {
      "cell_type": "code",
      "execution_count": null,
      "metadata": {
        "id": "F0_KXiWSjKpP",
        "outputId": "99702455-f364-4d7f-9f94-d76acb122d21",
        "colab": {
          "base_uri": "https://localhost:8080/"
        }
      },
      "outputs": [
        {
          "output_type": "execute_result",
          "data": {
            "text/plain": [
              "CreditScore          0\n",
              "Age                  0\n",
              "Tenure               0\n",
              "Balance              0\n",
              "NumOfProducts        0\n",
              "HasCrCard            0\n",
              "IsActiveMember       0\n",
              "EstimatedSalary      0\n",
              "Exited               0\n",
              "Geography_Germany    0\n",
              "Geography_Spain      0\n",
              "Gender_Male          0\n",
              "dtype: int64"
            ]
          },
          "metadata": {},
          "execution_count": 8
        }
      ],
      "source": [
        "df_ohe.isna().sum()"
      ]
    },
    {
      "cell_type": "markdown",
      "metadata": {
        "id": "ltQEitVRjKpP"
      },
      "source": [
        "Сложно предположить причину этих пропусков. Поэтому я заменю пропущенные значения заглушкой \"0\"."
      ]
    },
    {
      "cell_type": "code",
      "execution_count": null,
      "metadata": {
        "id": "Q087Lkz3jKpP",
        "outputId": "41873701-fb03-43e6-8013-e9c2412fa21d",
        "colab": {
          "base_uri": "https://localhost:8080/",
          "height": 49
        }
      },
      "outputs": [
        {
          "output_type": "execute_result",
          "data": {
            "text/plain": [
              "Empty DataFrame\n",
              "Columns: [CreditScore, Age, Tenure, Balance, NumOfProducts, HasCrCard, IsActiveMember, EstimatedSalary, Exited, Geography_Germany, Geography_Spain, Gender_Male]\n",
              "Index: []"
            ],
            "text/html": [
              "\n",
              "  <div id=\"df-3f72bd99-4045-43da-b520-e905da7d9e06\">\n",
              "    <div class=\"colab-df-container\">\n",
              "      <div>\n",
              "<style scoped>\n",
              "    .dataframe tbody tr th:only-of-type {\n",
              "        vertical-align: middle;\n",
              "    }\n",
              "\n",
              "    .dataframe tbody tr th {\n",
              "        vertical-align: top;\n",
              "    }\n",
              "\n",
              "    .dataframe thead th {\n",
              "        text-align: right;\n",
              "    }\n",
              "</style>\n",
              "<table border=\"1\" class=\"dataframe\">\n",
              "  <thead>\n",
              "    <tr style=\"text-align: right;\">\n",
              "      <th></th>\n",
              "      <th>CreditScore</th>\n",
              "      <th>Age</th>\n",
              "      <th>Tenure</th>\n",
              "      <th>Balance</th>\n",
              "      <th>NumOfProducts</th>\n",
              "      <th>HasCrCard</th>\n",
              "      <th>IsActiveMember</th>\n",
              "      <th>EstimatedSalary</th>\n",
              "      <th>Exited</th>\n",
              "      <th>Geography_Germany</th>\n",
              "      <th>Geography_Spain</th>\n",
              "      <th>Gender_Male</th>\n",
              "    </tr>\n",
              "  </thead>\n",
              "  <tbody>\n",
              "  </tbody>\n",
              "</table>\n",
              "</div>\n",
              "      <button class=\"colab-df-convert\" onclick=\"convertToInteractive('df-3f72bd99-4045-43da-b520-e905da7d9e06')\"\n",
              "              title=\"Convert this dataframe to an interactive table.\"\n",
              "              style=\"display:none;\">\n",
              "        \n",
              "  <svg xmlns=\"http://www.w3.org/2000/svg\" height=\"24px\"viewBox=\"0 0 24 24\"\n",
              "       width=\"24px\">\n",
              "    <path d=\"M0 0h24v24H0V0z\" fill=\"none\"/>\n",
              "    <path d=\"M18.56 5.44l.94 2.06.94-2.06 2.06-.94-2.06-.94-.94-2.06-.94 2.06-2.06.94zm-11 1L8.5 8.5l.94-2.06 2.06-.94-2.06-.94L8.5 2.5l-.94 2.06-2.06.94zm10 10l.94 2.06.94-2.06 2.06-.94-2.06-.94-.94-2.06-.94 2.06-2.06.94z\"/><path d=\"M17.41 7.96l-1.37-1.37c-.4-.4-.92-.59-1.43-.59-.52 0-1.04.2-1.43.59L10.3 9.45l-7.72 7.72c-.78.78-.78 2.05 0 2.83L4 21.41c.39.39.9.59 1.41.59.51 0 1.02-.2 1.41-.59l7.78-7.78 2.81-2.81c.8-.78.8-2.07 0-2.86zM5.41 20L4 18.59l7.72-7.72 1.47 1.35L5.41 20z\"/>\n",
              "  </svg>\n",
              "      </button>\n",
              "      \n",
              "  <style>\n",
              "    .colab-df-container {\n",
              "      display:flex;\n",
              "      flex-wrap:wrap;\n",
              "      gap: 12px;\n",
              "    }\n",
              "\n",
              "    .colab-df-convert {\n",
              "      background-color: #E8F0FE;\n",
              "      border: none;\n",
              "      border-radius: 50%;\n",
              "      cursor: pointer;\n",
              "      display: none;\n",
              "      fill: #1967D2;\n",
              "      height: 32px;\n",
              "      padding: 0 0 0 0;\n",
              "      width: 32px;\n",
              "    }\n",
              "\n",
              "    .colab-df-convert:hover {\n",
              "      background-color: #E2EBFA;\n",
              "      box-shadow: 0px 1px 2px rgba(60, 64, 67, 0.3), 0px 1px 3px 1px rgba(60, 64, 67, 0.15);\n",
              "      fill: #174EA6;\n",
              "    }\n",
              "\n",
              "    [theme=dark] .colab-df-convert {\n",
              "      background-color: #3B4455;\n",
              "      fill: #D2E3FC;\n",
              "    }\n",
              "\n",
              "    [theme=dark] .colab-df-convert:hover {\n",
              "      background-color: #434B5C;\n",
              "      box-shadow: 0px 1px 3px 1px rgba(0, 0, 0, 0.15);\n",
              "      filter: drop-shadow(0px 1px 2px rgba(0, 0, 0, 0.3));\n",
              "      fill: #FFFFFF;\n",
              "    }\n",
              "  </style>\n",
              "\n",
              "      <script>\n",
              "        const buttonEl =\n",
              "          document.querySelector('#df-3f72bd99-4045-43da-b520-e905da7d9e06 button.colab-df-convert');\n",
              "        buttonEl.style.display =\n",
              "          google.colab.kernel.accessAllowed ? 'block' : 'none';\n",
              "\n",
              "        async function convertToInteractive(key) {\n",
              "          const element = document.querySelector('#df-3f72bd99-4045-43da-b520-e905da7d9e06');\n",
              "          const dataTable =\n",
              "            await google.colab.kernel.invokeFunction('convertToInteractive',\n",
              "                                                     [key], {});\n",
              "          if (!dataTable) return;\n",
              "\n",
              "          const docLinkHtml = 'Like what you see? Visit the ' +\n",
              "            '<a target=\"_blank\" href=https://colab.research.google.com/notebooks/data_table.ipynb>data table notebook</a>'\n",
              "            + ' to learn more about interactive tables.';\n",
              "          element.innerHTML = '';\n",
              "          dataTable['output_type'] = 'display_data';\n",
              "          await google.colab.output.renderOutput(dataTable, element);\n",
              "          const docLink = document.createElement('div');\n",
              "          docLink.innerHTML = docLinkHtml;\n",
              "          element.appendChild(docLink);\n",
              "        }\n",
              "      </script>\n",
              "    </div>\n",
              "  </div>\n",
              "  "
            ]
          },
          "metadata": {},
          "execution_count": 9
        }
      ],
      "source": [
        "df_ohe[df_ohe['Tenure'].isna()].head()"
      ]
    },
    {
      "cell_type": "code",
      "execution_count": null,
      "metadata": {
        "id": "2dIDaRNOjKpP"
      },
      "outputs": [],
      "source": [
        "df_ohe['Tenure'] = df_ohe['Tenure'].fillna(0)"
      ]
    },
    {
      "cell_type": "code",
      "execution_count": null,
      "metadata": {
        "id": "Nrcfs6tbjKpQ",
        "outputId": "6e9f4255-a7e3-4798-9c28-a5b855432c30",
        "colab": {
          "base_uri": "https://localhost:8080/"
        }
      },
      "outputs": [
        {
          "output_type": "execute_result",
          "data": {
            "text/plain": [
              "0"
            ]
          },
          "metadata": {},
          "execution_count": 11
        }
      ],
      "source": [
        "df_ohe['Tenure'].isna().sum()"
      ]
    },
    {
      "cell_type": "markdown",
      "metadata": {
        "id": "G14K_pMHjKpQ"
      },
      "source": [
        "**Вывод:**"
      ]
    },
    {
      "cell_type": "markdown",
      "metadata": {
        "id": "8WP5gijijKpQ"
      },
      "source": [
        "* удалил неинформативные столбцы — Surname, RowNumber, Geography;\n",
        "* выполнил горячее кодирование категориальных признаков;\n",
        "* заменил пропущенные значения в столбце Tenure на заглушку."
      ]
    },
    {
      "cell_type": "markdown",
      "metadata": {
        "id": "9bEm01XHjKpR"
      },
      "source": [
        "## Исследование задачи"
      ]
    },
    {
      "cell_type": "markdown",
      "metadata": {
        "id": "k9-YQGUYjKpR"
      },
      "source": [
        "Разделю датасет на 3 части — train, valid и test."
      ]
    },
    {
      "cell_type": "code",
      "execution_count": null,
      "metadata": {
        "id": "iMLjh8p9jKpR"
      },
      "outputs": [],
      "source": [
        "def split_stratified_into_train_val_test(df_input, stratify_colname='y',\n",
        "                                         frac_train=0.6, frac_val=0.20, frac_test=0.20,\n",
        "                                         random_state=None):\n",
        "    '''\n",
        "    Функция разбивает датасет на три подмножества (train, val и test),\n",
        "    где каждое подмножество стратифицировано по значениям в определенном столбце(target).\n",
        "\n",
        "    Параметры:\n",
        "    ----------\n",
        "    df_input — датасет, который будем делить.\n",
        "    stratify_colname — название столбца, который будет использоваться для стратификации.\n",
        "    frac_train, frac_val и frac_test — соотношения, с которыми датасет\n",
        "    будет разделен на train, val и test.\n",
        "    random_state — значение, которое будет передано в train_test_split().\n",
        "\n",
        "    Возвращается:\n",
        "    -------\n",
        "    df_train, df_val, df_test — необходимые выборки.\n",
        "    '''\n",
        "\n",
        "    if frac_train + frac_val + frac_test != 1.0:\n",
        "        raise ValueError('fractions %f, %f, %f do not add up to 1.0' % \\\n",
        "                         (frac_train, frac_val, frac_test))\n",
        "\n",
        "    if stratify_colname not in df_input.columns:\n",
        "        raise ValueError('%s is not a column in the dataframe' % (stratify_colname))\n",
        "\n",
        "    X = df_input # features\n",
        "    y = df_input[[stratify_colname]] # target\n",
        "\n",
        "    # датасет будет разделен в два этапа\n",
        "    df_train, df_temp, y_train, y_temp = (\n",
        "        train_test_split(\n",
        "        X,\n",
        "        y,\n",
        "        stratify=y,\n",
        "        test_size=(1.0 - frac_train),\n",
        "        random_state=random_state\n",
        "        )\n",
        "    )\n",
        "\n",
        "    relative_frac_test = frac_test / (frac_val + frac_test)\n",
        "\n",
        "    df_val, df_test, y_val, y_test = (\n",
        "        train_test_split(\n",
        "        df_temp,\n",
        "        y_temp,\n",
        "        stratify=y_temp,\n",
        "        test_size=relative_frac_test,\n",
        "        random_state=random_state\n",
        "        )\n",
        "    )\n",
        "\n",
        "    assert len(df_input) == len(df_train) + len(df_val) + len(df_test)\n",
        "\n",
        "    return df_train, df_val, df_test"
      ]
    },
    {
      "cell_type": "markdown",
      "metadata": {
        "id": "c-ISMNvajKpX"
      },
      "source": [
        "Таким образом получаю соотношения 3:1:1"
      ]
    },
    {
      "cell_type": "code",
      "execution_count": null,
      "metadata": {
        "id": "MA7NYzb2jKpX",
        "outputId": "8a3657d8-c76a-4877-f067-8eca4097f330",
        "colab": {
          "base_uri": "https://localhost:8080/"
        }
      },
      "outputs": [
        {
          "output_type": "stream",
          "name": "stdout",
          "text": [
            "(6000, 12)\n",
            "(2000, 12)\n",
            "(2000, 12)\n"
          ]
        }
      ],
      "source": [
        "df_train, df_val, df_test = (\n",
        "    split_stratified_into_train_val_test(\n",
        "        df_ohe,\n",
        "        stratify_colname='Exited',\n",
        "        frac_train=.60, frac_val=.20, frac_test=.20,\n",
        "        random_state=666\n",
        "    )\n",
        ")\n",
        "print(df_train.shape)\n",
        "print(df_val.shape)\n",
        "print(df_test.shape)"
      ]
    },
    {
      "cell_type": "markdown",
      "metadata": {
        "id": "hDZ3TnLFjKpX"
      },
      "source": [
        "Теперь разделю каждую выборку на признаки."
      ]
    },
    {
      "cell_type": "code",
      "execution_count": null,
      "metadata": {
        "id": "LEDFKCPhjKpY"
      },
      "outputs": [],
      "source": [
        "features_train = df_train.drop(['Exited'], axis=1)\n",
        "target_train = df_train['Exited']\n",
        "\n",
        "features_valid = df_val.drop(['Exited'], axis=1)\n",
        "target_valid = df_val['Exited']\n",
        "\n",
        "features_test = df_test.drop(['Exited'], axis=1)\n",
        "target_test = df_test['Exited']"
      ]
    },
    {
      "cell_type": "markdown",
      "metadata": {
        "id": "yeXFS_zYjKpY"
      },
      "source": [
        "Столбцы с численными значениями имеют разный диапазон значений. Проведу масштабирование признаков."
      ]
    },
    {
      "cell_type": "code",
      "execution_count": null,
      "metadata": {
        "id": "gCSVTICZjKpY"
      },
      "outputs": [],
      "source": [
        "numeric = ['CreditScore', 'Age', 'Tenure', 'Balance',\n",
        "           'NumOfProducts', 'EstimatedSalary']\n",
        "\n",
        "scaler = StandardScaler()\n",
        "scaler.fit(features_train[numeric])\n",
        "\n",
        "features_train[numeric] = scaler.transform(features_train[numeric])\n",
        "features_valid[numeric] = scaler.transform(features_valid[numeric])\n",
        "features_test[numeric] = scaler.transform(features_test[numeric])"
      ]
    },
    {
      "cell_type": "markdown",
      "metadata": {
        "id": "nKtxMmwajKpZ"
      },
      "source": [
        "Логистическая регрессия"
      ]
    },
    {
      "cell_type": "code",
      "execution_count": null,
      "metadata": {
        "id": "mb3Syr6qjKpZ"
      },
      "outputs": [],
      "source": [
        "lr = LogisticRegression(random_state=666, solver='liblinear')\n",
        "lr.fit(features_train, target_train)\n",
        "predictions_lr = lr.predict(features_valid)\n",
        "\n",
        "probabilities_valid = lr.predict_proba(features_valid)\n",
        "probabilities_one_valid = probabilities_valid[:, 1]"
      ]
    },
    {
      "cell_type": "markdown",
      "metadata": {
        "id": "ZDs44Ln_jKpZ"
      },
      "source": [
        "Воспользуюсь функцией построения матрицы ошибок из документации sklearn"
      ]
    },
    {
      "cell_type": "code",
      "execution_count": null,
      "metadata": {
        "id": "a1bQSb-wjKpZ"
      },
      "outputs": [],
      "source": [
        "def plot_confusion_matrix(cm, classes,\n",
        "                          normalize=False,\n",
        "                          title='Confusion matrix',\n",
        "                          cmap=plt.cm.Blues):\n",
        "    \"\"\"\n",
        "    This function prints and plots the confusion matrix.\n",
        "    Normalization can be applied by setting `normalize=True`.\n",
        "    \"\"\"\n",
        "    plt.imshow(cm, interpolation='nearest', cmap=cmap)\n",
        "    plt.title(title)\n",
        "    plt.colorbar()\n",
        "    tick_marks = np.arange(len(classes))\n",
        "    plt.xticks(tick_marks, classes, rotation=45)\n",
        "    plt.yticks(tick_marks, classes)\n",
        "\n",
        "    if normalize:\n",
        "        cm = cm.astype('float') / cm.sum(axis=1)[:, np.newaxis]\n",
        "        print(\"Normalized confusion matrix\")\n",
        "    else:\n",
        "        print('Confusion matrix, without normalization')\n",
        "\n",
        "    print(cm)\n",
        "\n",
        "    thresh = cm.max() / 2.\n",
        "    for i, j in itertools.product(range(cm.shape[0]), range(cm.shape[1])):\n",
        "        plt.text(j, i, cm[i, j],\n",
        "                 horizontalalignment=\"center\",\n",
        "                 color=\"white\" if cm[i, j] > thresh else \"black\")\n",
        "\n",
        "    plt.tight_layout()\n",
        "    plt.ylabel('True label')\n",
        "    plt.xlabel('Predicted label')"
      ]
    },
    {
      "cell_type": "code",
      "execution_count": null,
      "metadata": {
        "id": "r_ynBP7_jKpZ",
        "outputId": "44315826-3ebf-4cba-de43-8be067c1e4f0",
        "colab": {
          "base_uri": "https://localhost:8080/",
          "height": 869
        }
      },
      "outputs": [
        {
          "output_type": "stream",
          "name": "stdout",
          "text": [
            "Confusion matrix, without normalization\n",
            "[[1530   62]\n",
            " [ 315   93]]\n"
          ]
        },
        {
          "output_type": "display_data",
          "data": {
            "text/plain": [
              "<Figure size 1000x800 with 2 Axes>"
            ],
            "image/png": "[encoded data removed]"
          },
          "metadata": {}
        }
      ],
      "source": [
        "font = {'size' : 15}\n",
        "\n",
        "plt.rc('font', **font)\n",
        "\n",
        "cnf_matrix = confusion_matrix(target_valid, predictions_lr)\n",
        "plt.figure(figsize=(10, 8))\n",
        "plot_confusion_matrix(cnf_matrix, classes=['Non-Exited', 'Exited'],\n",
        "                      title='Confusion matrix')\n",
        "#plt.savefig(\"conf_matrix.png\")\n",
        "plt.show()"
      ]
    },
    {
      "cell_type": "markdown",
      "metadata": {
        "id": "1wEwJQyhjKpZ"
      },
      "source": [
        "Метрики с базовыми гиперпараметрами:"
      ]
    },
    {
      "cell_type": "code",
      "execution_count": null,
      "metadata": {
        "id": "IxT1HKI-jKpa",
        "outputId": "e0d90de3-3f10-4b54-8387-006e7e5d5af7",
        "colab": {
          "base_uri": "https://localhost:8080/"
        }
      },
      "outputs": [
        {
          "output_type": "stream",
          "name": "stdout",
          "text": [
            "Recall: 0.22794117647058823\n",
            "Precision: 0.6\n",
            "F1: 0.33037300177619894\n",
            "ROC_auc: 0.7452673908759483\n"
          ]
        }
      ],
      "source": [
        "print(\"Recall:\", recall_score(target_valid, predictions_lr))\n",
        "print(\"Precision:\", precision_score(target_valid, predictions_lr))\n",
        "print(\"F1:\", f1_score(target_valid, predictions_lr))\n",
        "print(\"ROC_auc:\", roc_auc_score(target_valid, probabilities_one_valid))"
      ]
    },
    {
      "cell_type": "markdown",
      "metadata": {
        "id": "4YA8gta4jKpa"
      },
      "source": [
        "Подберу оптимальный порог для классификации:"
      ]
    },
    {
      "cell_type": "code",
      "execution_count": null,
      "metadata": {
        "id": "YRnwtaCRjKpa",
        "outputId": "20b31d34-0e7d-4d21-f0a9-2b0f50515d38",
        "colab": {
          "base_uri": "https://localhost:8080/"
        }
      },
      "outputs": [
        {
          "output_type": "stream",
          "name": "stdout",
          "text": [
            "Порог = 0.00 | Точность = 0.204, Полнота = 1.000, F1 = 0.339\n",
            "Порог = 0.02 | Точность = 0.205, Полнота = 1.000, F1 = 0.340\n",
            "Порог = 0.04 | Точность = 0.215, Полнота = 0.988, F1 = 0.353\n",
            "Порог = 0.06 | Точность = 0.232, Полнота = 0.971, F1 = 0.374\n",
            "Порог = 0.08 | Точность = 0.245, Полнота = 0.931, F1 = 0.388\n",
            "Порог = 0.10 | Точность = 0.259, Полнота = 0.890, F1 = 0.402\n",
            "Порог = 0.12 | Точность = 0.276, Полнота = 0.850, F1 = 0.417\n",
            "Порог = 0.14 | Точность = 0.300, Полнота = 0.816, F1 = 0.439\n",
            "Порог = 0.16 | Точность = 0.323, Полнота = 0.784, F1 = 0.457\n",
            "Порог = 0.18 | Точность = 0.330, Полнота = 0.733, F1 = 0.455\n",
            "Порог = 0.20 | Точность = 0.341, Полнота = 0.674, F1 = 0.453\n",
            "Порог = 0.22 | Точность = 0.365, Полнота = 0.630, F1 = 0.462\n",
            "Порог = 0.24 | Точность = 0.386, Полнота = 0.596, F1 = 0.469\n",
            "Порог = 0.26 | Точность = 0.400, Полнота = 0.551, F1 = 0.464\n",
            "Порог = 0.28 | Точность = 0.418, Полнота = 0.520, F1 = 0.463\n",
            "Порог = 0.30 | Точность = 0.436, Полнота = 0.480, F1 = 0.457\n",
            "Порог = 0.32 | Точность = 0.461, Полнота = 0.449, F1 = 0.455\n",
            "Порог = 0.34 | Точность = 0.481, Полнота = 0.424, F1 = 0.451\n",
            "Порог = 0.36 | Точность = 0.505, Полнота = 0.400, F1 = 0.446\n",
            "Порог = 0.38 | Точность = 0.514, Полнота = 0.373, F1 = 0.432\n",
            "Порог = 0.40 | Точность = 0.527, Полнота = 0.338, F1 = 0.412\n",
            "Порог = 0.42 | Точность = 0.550, Полнота = 0.309, F1 = 0.396\n",
            "Порог = 0.44 | Точность = 0.557, Полнота = 0.289, F1 = 0.381\n",
            "Порог = 0.46 | Точность = 0.571, Полнота = 0.267, F1 = 0.364\n",
            "Порог = 0.48 | Точность = 0.577, Полнота = 0.248, F1 = 0.346\n",
            "Порог = 0.50 | Точность = 0.600, Полнота = 0.228, F1 = 0.330\n",
            "Порог = 0.52 | Точность = 0.613, Полнота = 0.206, F1 = 0.308\n",
            "Порог = 0.54 | Точность = 0.661, Полнота = 0.186, F1 = 0.291\n",
            "Порог = 0.56 | Точность = 0.686, Полнота = 0.176, F1 = 0.281\n",
            "Порог = 0.58 | Точность = 0.678, Полнота = 0.150, F1 = 0.245\n",
            "Порог = 0.60 | Точность = 0.718, Полнота = 0.125, F1 = 0.213\n"
          ]
        }
      ],
      "source": [
        "probabilities_valid = lr.predict_proba(features_valid)\n",
        "probabilities_one_valid = probabilities_valid[:, 1]\n",
        "\n",
        "for threshold in np.arange(0, 0.62, 0.02):\n",
        "    predicted_valid = probabilities_one_valid > threshold\n",
        "    precision = precision_score(target_valid, predicted_valid)\n",
        "    recall = recall_score(target_valid, predicted_valid)\n",
        "\n",
        "    print(\"Порог = {:.2f} | Точность = {:.3f}, Полнота = {:.3f}, F1 = {:.3f}\".format(\n",
        "        threshold, precision, recall, f1_score(target_valid, predicted_valid)))"
      ]
    },
    {
      "cell_type": "markdown",
      "metadata": {
        "id": "Ql0kRHUYjKpb"
      },
      "source": [
        "Случайный лес"
      ]
    },
    {
      "cell_type": "markdown",
      "metadata": {
        "id": "bGPMUnwUjKpb"
      },
      "source": [
        "Подберу оптимальные гиперпараметры:"
      ]
    },
    {
      "cell_type": "code",
      "execution_count": null,
      "metadata": {
        "id": "AcS17TnTjKpb",
        "outputId": "46bb1f48-8fcf-48e2-827b-d3a4c95c1208",
        "colab": {
          "base_uri": "https://localhost:8080/",
          "height": 118
        }
      },
      "outputs": [
        {
          "output_type": "execute_result",
          "data": {
            "text/plain": [
              "GridSearchCV(cv=5, estimator=RandomForestClassifier(random_state=666),\n",
              "             param_grid={'criterion': ['gini', 'entropy'],\n",
              "                         'max_depth': [5, 10, 20],\n",
              "                         'n_estimators': [25, 50, 100, 150]},\n",
              "             scoring='f1')"
            ],
            "text/html": [
              "<style>#sk-container-id-1 {color: black;background-color: white;}#sk-container-id-1 pre{padding: 0;}#sk-container-id-1 div.sk-toggleable {background-color: white;}#sk-container-id-1 label.sk-toggleable__label {cursor: pointer;display: block;width: 100%;margin-bottom: 0;padding: 0.3em;box-sizing: border-box;text-align: center;}#sk-container-id-1 label.sk-toggleable__label-arrow:before {content: \"▸\";float: left;margin-right: 0.25em;color: #696969;}#sk-container-id-1 label.sk-toggleable__label-arrow:hover:before {color: black;}#sk-container-id-1 div.sk-estimator:hover label.sk-toggleable__label-arrow:before {color: black;}#sk-container-id-1 div.sk-toggleable__content {max-height: 0;max-width: 0;overflow: hidden;text-align: left;background-color: #f0f8ff;}#sk-container-id-1 div.sk-toggleable__content pre {margin: 0.2em;color: black;border-radius: 0.25em;background-color: #f0f8ff;}#sk-container-id-1 input.sk-toggleable__control:checked~div.sk-toggleable__content {max-height: 200px;max-width: 100%;overflow: auto;}#sk-container-id-1 input.sk-toggleable__control:checked~label.sk-toggleable__label-arrow:before {content: \"▾\";}#sk-container-id-1 div.sk-estimator input.sk-toggleable__control:checked~label.sk-toggleable__label {background-color: #d4ebff;}#sk-container-id-1 div.sk-label input.sk-toggleable__control:checked~label.sk-toggleable__label {background-color: #d4ebff;}#sk-container-id-1 input.sk-hidden--visually {border: 0;clip: rect(1px 1px 1px 1px);clip: rect(1px, 1px, 1px, 1px);height: 1px;margin: -1px;overflow: hidden;padding: 0;position: absolute;width: 1px;}#sk-container-id-1 div.sk-estimator {font-family: monospace;background-color: #f0f8ff;border: 1px dotted black;border-radius: 0.25em;box-sizing: border-box;margin-bottom: 0.5em;}#sk-container-id-1 div.sk-estimator:hover {background-color: #d4ebff;}#sk-container-id-1 div.sk-parallel-item::after {content: \"\";width: 100%;border-bottom: 1px solid gray;flex-grow: 1;}#sk-container-id-1 div.sk-label:hover label.sk-toggleable__label {background-color: #d4ebff;}#sk-container-id-1 div.sk-serial::before {content: \"\";position: absolute;border-left: 1px solid gray;box-sizing: border-box;top: 0;bottom: 0;left: 50%;z-index: 0;}#sk-container-id-1 div.sk-serial {display: flex;flex-direction: column;align-items: center;background-color: white;padding-right: 0.2em;padding-left: 0.2em;position: relative;}#sk-container-id-1 div.sk-item {position: relative;z-index: 1;}#sk-container-id-1 div.sk-parallel {display: flex;align-items: stretch;justify-content: center;background-color: white;position: relative;}#sk-container-id-1 div.sk-item::before, #sk-container-id-1 div.sk-parallel-item::before {content: \"\";position: absolute;border-left: 1px solid gray;box-sizing: border-box;top: 0;bottom: 0;left: 50%;z-index: -1;}#sk-container-id-1 div.sk-parallel-item {display: flex;flex-direction: column;z-index: 1;position: relative;background-color: white;}#sk-container-id-1 div.sk-parallel-item:first-child::after {align-self: flex-end;width: 50%;}#sk-container-id-1 div.sk-parallel-item:last-child::after {align-self: flex-start;width: 50%;}#sk-container-id-1 div.sk-parallel-item:only-child::after {width: 0;}#sk-container-id-1 div.sk-dashed-wrapped {border: 1px dashed gray;margin: 0 0.4em 0.5em 0.4em;box-sizing: border-box;padding-bottom: 0.4em;background-color: white;}#sk-container-id-1 div.sk-label label {font-family: monospace;font-weight: bold;display: inline-block;line-height: 1.2em;}#sk-container-id-1 div.sk-label-container {text-align: center;}#sk-container-id-1 div.sk-container {/* jupyter's `normalize.less` sets `[hidden] { display: none; }` but bootstrap.min.css set `[hidden] { display: none !important; }` so we also need the `!important` here to be able to override the default hidden behavior on the sphinx rendered scikit-learn.org. See: https://github.com/scikit-learn/scikit-learn/issues/21755 */display: inline-block !important;position: relative;}#sk-container-id-1 div.sk-text-repr-fallback {display: none;}</style><div id=\"sk-container-id-1\" class=\"sk-top-container\"><div class=\"sk-text-repr-fallback\"><pre>GridSearchCV(cv=5, estimator=RandomForestClassifier(random_state=666),\n",
              "             param_grid={&#x27;criterion&#x27;: [&#x27;gini&#x27;, &#x27;entropy&#x27;],\n",
              "                         &#x27;max_depth&#x27;: [5, 10, 20],\n",
              "                         &#x27;n_estimators&#x27;: [25, 50, 100, 150]},\n",
              "             scoring=&#x27;f1&#x27;)</pre><b>In a Jupyter environment, please rerun this cell to show the HTML representation or trust the notebook. <br />On GitHub, the HTML representation is unable to render, please try loading this page with nbviewer.org.</b></div><div class=\"sk-container\" hidden><div class=\"sk-item sk-dashed-wrapped\"><div class=\"sk-label-container\"><div class=\"sk-label sk-toggleable\"><input class=\"sk-toggleable__control sk-hidden--visually\" id=\"sk-estimator-id-1\" type=\"checkbox\" ><label for=\"sk-estimator-id-1\" class=\"sk-toggleable__label sk-toggleable__label-arrow\">GridSearchCV</label><div class=\"sk-toggleable__content\"><pre>GridSearchCV(cv=5, estimator=RandomForestClassifier(random_state=666),\n",
              "             param_grid={&#x27;criterion&#x27;: [&#x27;gini&#x27;, &#x27;entropy&#x27;],\n",
              "                         &#x27;max_depth&#x27;: [5, 10, 20],\n",
              "                         &#x27;n_estimators&#x27;: [25, 50, 100, 150]},\n",
              "             scoring=&#x27;f1&#x27;)</pre></div></div></div><div class=\"sk-parallel\"><div class=\"sk-parallel-item\"><div class=\"sk-item\"><div class=\"sk-label-container\"><div class=\"sk-label sk-toggleable\"><input class=\"sk-toggleable__control sk-hidden--visually\" id=\"sk-estimator-id-2\" type=\"checkbox\" ><label for=\"sk-estimator-id-2\" class=\"sk-toggleable__label sk-toggleable__label-arrow\">estimator: RandomForestClassifier</label><div class=\"sk-toggleable__content\"><pre>RandomForestClassifier(random_state=666)</pre></div></div></div><div class=\"sk-serial\"><div class=\"sk-item\"><div class=\"sk-estimator sk-toggleable\"><input class=\"sk-toggleable__control sk-hidden--visually\" id=\"sk-estimator-id-3\" type=\"checkbox\" ><label for=\"sk-estimator-id-3\" class=\"sk-toggleable__label sk-toggleable__label-arrow\">RandomForestClassifier</label><div class=\"sk-toggleable__content\"><pre>RandomForestClassifier(random_state=666)</pre></div></div></div></div></div></div></div></div></div></div>"
            ]
          },
          "metadata": {},
          "execution_count": 21
        }
      ],
      "source": [
        "parameters = {\n",
        "    'n_estimators' : [25,50,100,150],\n",
        "    'criterion' : ['gini', 'entropy'],\n",
        "    'max_depth':[5,10,20]\n",
        "}\n",
        "\n",
        "rfc = RandomForestClassifier(random_state=666)\n",
        "\n",
        "clf_rfc = GridSearchCV(\n",
        "    estimator = rfc,\n",
        "    param_grid = parameters,\n",
        "    scoring = 'f1',\n",
        "    cv=5)\n",
        "\n",
        "clf_rfc.fit(features_train, target_train)"
      ]
    },
    {
      "cell_type": "code",
      "execution_count": null,
      "metadata": {
        "id": "XbgRyCoCjKpb"
      },
      "outputs": [],
      "source": [
        "model_base_rfc = clf_rfc.best_estimator_.fit(features_train, target_train)\n",
        "predictions_rfc = model_base_rfc.predict(features_valid)\n",
        "\n",
        "probabilities_valid = model_base_rfc.predict_proba(features_valid)\n",
        "probabilities_one_valid = probabilities_valid[:, 1]"
      ]
    },
    {
      "cell_type": "code",
      "execution_count": null,
      "metadata": {
        "id": "B4ALu9zQjKpb",
        "outputId": "9fed768b-5ca6-4563-e518-a2426be1002c",
        "colab": {
          "base_uri": "https://localhost:8080/",
          "height": 869
        }
      },
      "outputs": [
        {
          "output_type": "stream",
          "name": "stdout",
          "text": [
            "Confusion matrix, without normalization\n",
            "[[1530   62]\n",
            " [ 229  179]]\n"
          ]
        },
        {
          "output_type": "display_data",
          "data": {
            "text/plain": [
              "<Figure size 1000x800 with 2 Axes>"
            ],
            "image/png": "[encoded data removed]"
          },
          "metadata": {}
        }
      ],
      "source": [
        "font = {'size' : 15}\n",
        "\n",
        "plt.rc('font', **font)\n",
        "\n",
        "cnf_matrix = confusion_matrix(target_valid, predictions_rfc)\n",
        "plt.figure(figsize=(10, 8))\n",
        "plot_confusion_matrix(cnf_matrix, classes=['Non-Exited', 'Exited'],\n",
        "                      title='Confusion matrix')\n",
        "#plt.savefig(\"conf_matrix.png\")\n",
        "plt.show()"
      ]
    },
    {
      "cell_type": "code",
      "execution_count": null,
      "metadata": {
        "id": "SSpdbapTjKpb",
        "outputId": "802083c8-3704-441a-e7de-3ef47d867413",
        "colab": {
          "base_uri": "https://localhost:8080/"
        }
      },
      "outputs": [
        {
          "output_type": "stream",
          "name": "stdout",
          "text": [
            "Recall: 0.4387254901960784\n",
            "Precision: 0.7427385892116183\n",
            "F1: 0.551617873651772\n",
            "ROC_auc: 0.853094362745098\n"
          ]
        }
      ],
      "source": [
        "print(\"Recall:\", recall_score(target_valid, predictions_rfc))\n",
        "print(\"Precision:\", precision_score(target_valid, predictions_rfc))\n",
        "print(\"F1:\", f1_score(target_valid, predictions_rfc))\n",
        "print(\"ROC_auc:\", roc_auc_score(target_valid, probabilities_one_valid))"
      ]
    },
    {
      "cell_type": "markdown",
      "metadata": {
        "id": "UO7bzpZ1jKpc"
      },
      "source": [
        "**Вывод:**"
      ]
    },
    {
      "cell_type": "markdown",
      "metadata": {
        "id": "OKlFAm11jKpc"
      },
      "source": [
        "Базовая модель логистической регрессии на валидационной выборке показала результат по f1 и roc_auc 0.25 и 0.72.\n",
        "При изменении порога классификации в логистической регрессии оптимальные значений метрик составляют Порог = 0.26 | Точность = 0.385, Полнота = 0.537, F1 = 0.448, ROC_auc = 0.72\n",
        "\n",
        "Модель случайного леса на тестовых данных f1 и roc_auc соответственно 0.5 и 0.83.\n",
        "\n",
        "Из-за несбалансированности данных у моделей полнота ниже, чем точность, это влияет на F-меру. У модели случайного леса метрики лучше, чем у логистической регрессии."
      ]
    },
    {
      "cell_type": "markdown",
      "metadata": {
        "id": "gdVkvgfjjKpc"
      },
      "source": [
        "## Борьба с дисбалансом"
      ]
    },
    {
      "cell_type": "code",
      "execution_count": null,
      "metadata": {
        "id": "zLxTpzsAjKpc",
        "outputId": "4fd4a6ec-c044-449d-d12f-e12113adf8b0",
        "colab": {
          "base_uri": "https://localhost:8080/",
          "height": 521
        }
      },
      "outputs": [
        {
          "output_type": "display_data",
          "data": {
            "text/plain": [
              "<Figure size 1000x600 with 1 Axes>"
            ],
            "image/png": "[encoded data removed]"
          },
          "metadata": {}
        }
      ],
      "source": [
        "df_ohe['Exited'].value_counts().plot(kind='bar',\n",
        "                                     figsize=(10, 6))\n",
        "plt.show()"
      ]
    },
    {
      "cell_type": "markdown",
      "metadata": {
        "id": "xdHxxKu1jKpc"
      },
      "source": [
        "Исследуемая метрика — отток клиентов, Exited. На графике виден дисбаланс классов."
      ]
    },
    {
      "cell_type": "markdown",
      "metadata": {
        "id": "tIXhMEPZjKpd"
      },
      "source": [
        "Снова обучу логистическую регрессию, но установлю параметр баланса классов:"
      ]
    },
    {
      "cell_type": "code",
      "execution_count": null,
      "metadata": {
        "id": "NBj9NI2ajKpd",
        "outputId": "cf533442-18e9-4acd-94e1-42001e3a49a4",
        "colab": {
          "base_uri": "https://localhost:8080/"
        }
      },
      "outputs": [
        {
          "output_type": "stream",
          "name": "stdout",
          "text": [
            "F1: 0.47160068846815845\n",
            "ROC_auc: 0.7508082692876146\n"
          ]
        }
      ],
      "source": [
        "model = LogisticRegression(random_state=666, solver='liblinear',class_weight = 'balanced')\n",
        "model.fit(features_train, target_train)\n",
        "predicted_valid = model.predict(features_valid)\n",
        "\n",
        "probabilities_valid = model.predict_proba(features_valid)\n",
        "probabilities_one_valid = probabilities_valid[:, 1]\n",
        "\n",
        "print(\"F1:\", f1_score(target_valid, predicted_valid))\n",
        "print(\"ROC_auc:\", roc_auc_score(target_valid, probabilities_one_valid))"
      ]
    },
    {
      "cell_type": "markdown",
      "metadata": {
        "id": "Mxtd81l4jKpd"
      },
      "source": [
        "Рассчитаю оптимальный порог:"
      ]
    },
    {
      "cell_type": "code",
      "execution_count": null,
      "metadata": {
        "id": "-y4S2TqOjKpd",
        "outputId": "a38d71c4-bf5a-4573-8ba4-fe5826ab20a9",
        "colab": {
          "base_uri": "https://localhost:8080/"
        }
      },
      "outputs": [
        {
          "output_type": "stream",
          "name": "stdout",
          "text": [
            "Порог = 0.00 | Точность = 0.204 | Полнота = 1.000 | F1 = 0.339\n",
            "Порог = 0.02 | Точность = 0.204 | Полнота = 1.000 | F1 = 0.339\n",
            "Порог = 0.04 | Точность = 0.204 | Полнота = 1.000 | F1 = 0.339\n",
            "Порог = 0.06 | Точность = 0.205 | Полнота = 1.000 | F1 = 0.340\n",
            "Порог = 0.08 | Точность = 0.206 | Полнота = 1.000 | F1 = 0.341\n",
            "Порог = 0.10 | Точность = 0.209 | Полнота = 0.995 | F1 = 0.345\n",
            "Порог = 0.12 | Точность = 0.212 | Полнота = 0.995 | F1 = 0.350\n",
            "Порог = 0.14 | Точность = 0.215 | Полнота = 0.988 | F1 = 0.354\n",
            "Порог = 0.16 | Точность = 0.222 | Полнота = 0.978 | F1 = 0.362\n",
            "Порог = 0.18 | Точность = 0.227 | Полнота = 0.978 | F1 = 0.369\n",
            "Порог = 0.20 | Точность = 0.231 | Полнота = 0.963 | F1 = 0.373\n",
            "Порог = 0.22 | Точность = 0.236 | Полнота = 0.949 | F1 = 0.377\n",
            "Порог = 0.24 | Точность = 0.243 | Полнота = 0.941 | F1 = 0.386\n",
            "Порог = 0.26 | Точность = 0.249 | Полнота = 0.929 | F1 = 0.392\n",
            "Порог = 0.28 | Точность = 0.255 | Полнота = 0.909 | F1 = 0.398\n",
            "Порог = 0.30 | Точность = 0.259 | Полнота = 0.890 | F1 = 0.402\n",
            "Порог = 0.32 | Точность = 0.269 | Полнота = 0.875 | F1 = 0.412\n",
            "Порог = 0.34 | Точность = 0.281 | Полнота = 0.865 | F1 = 0.425\n",
            "Порог = 0.36 | Точность = 0.290 | Полнота = 0.838 | F1 = 0.431\n",
            "Порог = 0.38 | Точность = 0.301 | Полнота = 0.833 | F1 = 0.442\n",
            "Порог = 0.40 | Точность = 0.313 | Полнота = 0.814 | F1 = 0.452\n",
            "Порог = 0.42 | Точность = 0.326 | Полнота = 0.792 | F1 = 0.462\n",
            "Порог = 0.44 | Точность = 0.333 | Полнота = 0.755 | F1 = 0.462\n",
            "Порог = 0.46 | Точность = 0.339 | Полнота = 0.730 | F1 = 0.463\n",
            "Порог = 0.48 | Точность = 0.354 | Полнота = 0.701 | F1 = 0.470\n",
            "Порог = 0.50 | Точность = 0.363 | Полнота = 0.672 | F1 = 0.472\n",
            "Порог = 0.52 | Точность = 0.371 | Полнота = 0.640 | F1 = 0.469\n",
            "Порог = 0.54 | Точность = 0.393 | Полнота = 0.630 | F1 = 0.484\n",
            "Порог = 0.56 | Точность = 0.406 | Полнота = 0.586 | F1 = 0.479\n",
            "Порог = 0.58 | Точность = 0.409 | Полнота = 0.551 | F1 = 0.470\n",
            "Порог = 0.60 | Точность = 0.423 | Полнота = 0.525 | F1 = 0.468\n"
          ]
        }
      ],
      "source": [
        "probabilities_valid = model.predict_proba(features_valid)\n",
        "probabilities_one_valid = probabilities_valid[:, 1]\n",
        "\n",
        "for threshold in np.arange(0, 0.62, 0.02):\n",
        "    predicted_valid = probabilities_one_valid > threshold\n",
        "    precision = precision_score(target_valid, predicted_valid)\n",
        "    recall = recall_score(target_valid, predicted_valid)\n",
        "\n",
        "    print(\"Порог = {:.2f} | Точность = {:.3f} | Полнота = {:.3f} | F1 = {:.3f}\".format(\n",
        "        threshold, precision, recall, f1_score(target_valid, predicted_valid)))"
      ]
    },
    {
      "cell_type": "markdown",
      "metadata": {
        "id": "eNBq2aDNjKpd"
      },
      "source": [
        "Посмотрим, как изменилась матрица после балансировки классов:"
      ]
    },
    {
      "cell_type": "code",
      "execution_count": null,
      "metadata": {
        "id": "N66v28bAjKpd",
        "outputId": "71a75e48-f8d0-4c1c-9037-f8fc7ecfd74c",
        "colab": {
          "base_uri": "https://localhost:8080/",
          "height": 869
        }
      },
      "outputs": [
        {
          "output_type": "stream",
          "name": "stdout",
          "text": [
            "Confusion matrix, without normalization\n",
            "[[1300  292]\n",
            " [ 194  214]]\n"
          ]
        },
        {
          "output_type": "display_data",
          "data": {
            "text/plain": [
              "<Figure size 1000x800 with 2 Axes>"
            ],
            "image/png": "[encoded data removed]"
          },
          "metadata": {}
        }
      ],
      "source": [
        "font = {'size' : 15}\n",
        "\n",
        "plt.rc('font', **font)\n",
        "\n",
        "cnf_matrix = confusion_matrix(target_valid, predicted_valid)\n",
        "plt.figure(figsize=(10, 8))\n",
        "plot_confusion_matrix(cnf_matrix, classes=['Non-Exited', 'Exited'],\n",
        "                      title='Confusion matrix')\n",
        "plt.show()"
      ]
    },
    {
      "cell_type": "markdown",
      "metadata": {
        "id": "nG2EEWJdjKpe"
      },
      "source": [
        "Обучу модель случайного леса с лучшими параметрами и балансом классов:"
      ]
    },
    {
      "cell_type": "code",
      "execution_count": null,
      "metadata": {
        "id": "P69rOIdLjKpe",
        "outputId": "23658441-b0c0-4760-c2f6-7f348692f37d",
        "colab": {
          "base_uri": "https://localhost:8080/",
          "height": 118
        }
      },
      "outputs": [
        {
          "output_type": "execute_result",
          "data": {
            "text/plain": [
              "GridSearchCV(cv=5, estimator=RandomForestClassifier(random_state=666),\n",
              "             param_grid={'class_weight': ['balanced'],\n",
              "                         'criterion': ['gini', 'entropy'],\n",
              "                         'max_depth': [5, 10, 20],\n",
              "                         'n_estimators': [25, 50, 100, 150]},\n",
              "             scoring='f1')"
            ],
            "text/html": [
              "<style>#sk-container-id-2 {color: black;background-color: white;}#sk-container-id-2 pre{padding: 0;}#sk-container-id-2 div.sk-toggleable {background-color: white;}#sk-container-id-2 label.sk-toggleable__label {cursor: pointer;display: block;width: 100%;margin-bottom: 0;padding: 0.3em;box-sizing: border-box;text-align: center;}#sk-container-id-2 label.sk-toggleable__label-arrow:before {content: \"▸\";float: left;margin-right: 0.25em;color: #696969;}#sk-container-id-2 label.sk-toggleable__label-arrow:hover:before {color: black;}#sk-container-id-2 div.sk-estimator:hover label.sk-toggleable__label-arrow:before {color: black;}#sk-container-id-2 div.sk-toggleable__content {max-height: 0;max-width: 0;overflow: hidden;text-align: left;background-color: #f0f8ff;}#sk-container-id-2 div.sk-toggleable__content pre {margin: 0.2em;color: black;border-radius: 0.25em;background-color: #f0f8ff;}#sk-container-id-2 input.sk-toggleable__control:checked~div.sk-toggleable__content {max-height: 200px;max-width: 100%;overflow: auto;}#sk-container-id-2 input.sk-toggleable__control:checked~label.sk-toggleable__label-arrow:before {content: \"▾\";}#sk-container-id-2 div.sk-estimator input.sk-toggleable__control:checked~label.sk-toggleable__label {background-color: #d4ebff;}#sk-container-id-2 div.sk-label input.sk-toggleable__control:checked~label.sk-toggleable__label {background-color: #d4ebff;}#sk-container-id-2 input.sk-hidden--visually {border: 0;clip: rect(1px 1px 1px 1px);clip: rect(1px, 1px, 1px, 1px);height: 1px;margin: -1px;overflow: hidden;padding: 0;position: absolute;width: 1px;}#sk-container-id-2 div.sk-estimator {font-family: monospace;background-color: #f0f8ff;border: 1px dotted black;border-radius: 0.25em;box-sizing: border-box;margin-bottom: 0.5em;}#sk-container-id-2 div.sk-estimator:hover {background-color: #d4ebff;}#sk-container-id-2 div.sk-parallel-item::after {content: \"\";width: 100%;border-bottom: 1px solid gray;flex-grow: 1;}#sk-container-id-2 div.sk-label:hover label.sk-toggleable__label {background-color: #d4ebff;}#sk-container-id-2 div.sk-serial::before {content: \"\";position: absolute;border-left: 1px solid gray;box-sizing: border-box;top: 0;bottom: 0;left: 50%;z-index: 0;}#sk-container-id-2 div.sk-serial {display: flex;flex-direction: column;align-items: center;background-color: white;padding-right: 0.2em;padding-left: 0.2em;position: relative;}#sk-container-id-2 div.sk-item {position: relative;z-index: 1;}#sk-container-id-2 div.sk-parallel {display: flex;align-items: stretch;justify-content: center;background-color: white;position: relative;}#sk-container-id-2 div.sk-item::before, #sk-container-id-2 div.sk-parallel-item::before {content: \"\";position: absolute;border-left: 1px solid gray;box-sizing: border-box;top: 0;bottom: 0;left: 50%;z-index: -1;}#sk-container-id-2 div.sk-parallel-item {display: flex;flex-direction: column;z-index: 1;position: relative;background-color: white;}#sk-container-id-2 div.sk-parallel-item:first-child::after {align-self: flex-end;width: 50%;}#sk-container-id-2 div.sk-parallel-item:last-child::after {align-self: flex-start;width: 50%;}#sk-container-id-2 div.sk-parallel-item:only-child::after {width: 0;}#sk-container-id-2 div.sk-dashed-wrapped {border: 1px dashed gray;margin: 0 0.4em 0.5em 0.4em;box-sizing: border-box;padding-bottom: 0.4em;background-color: white;}#sk-container-id-2 div.sk-label label {font-family: monospace;font-weight: bold;display: inline-block;line-height: 1.2em;}#sk-container-id-2 div.sk-label-container {text-align: center;}#sk-container-id-2 div.sk-container {/* jupyter's `normalize.less` sets `[hidden] { display: none; }` but bootstrap.min.css set `[hidden] { display: none !important; }` so we also need the `!important` here to be able to override the default hidden behavior on the sphinx rendered scikit-learn.org. See: https://github.com/scikit-learn/scikit-learn/issues/21755 */display: inline-block !important;position: relative;}#sk-container-id-2 div.sk-text-repr-fallback {display: none;}</style><div id=\"sk-container-id-2\" class=\"sk-top-container\"><div class=\"sk-text-repr-fallback\"><pre>GridSearchCV(cv=5, estimator=RandomForestClassifier(random_state=666),\n",
              "             param_grid={&#x27;class_weight&#x27;: [&#x27;balanced&#x27;],\n",
              "                         &#x27;criterion&#x27;: [&#x27;gini&#x27;, &#x27;entropy&#x27;],\n",
              "                         &#x27;max_depth&#x27;: [5, 10, 20],\n",
              "                         &#x27;n_estimators&#x27;: [25, 50, 100, 150]},\n",
              "             scoring=&#x27;f1&#x27;)</pre><b>In a Jupyter environment, please rerun this cell to show the HTML representation or trust the notebook. <br />On GitHub, the HTML representation is unable to render, please try loading this page with nbviewer.org.</b></div><div class=\"sk-container\" hidden><div class=\"sk-item sk-dashed-wrapped\"><div class=\"sk-label-container\"><div class=\"sk-label sk-toggleable\"><input class=\"sk-toggleable__control sk-hidden--visually\" id=\"sk-estimator-id-4\" type=\"checkbox\" ><label for=\"sk-estimator-id-4\" class=\"sk-toggleable__label sk-toggleable__label-arrow\">GridSearchCV</label><div class=\"sk-toggleable__content\"><pre>GridSearchCV(cv=5, estimator=RandomForestClassifier(random_state=666),\n",
              "             param_grid={&#x27;class_weight&#x27;: [&#x27;balanced&#x27;],\n",
              "                         &#x27;criterion&#x27;: [&#x27;gini&#x27;, &#x27;entropy&#x27;],\n",
              "                         &#x27;max_depth&#x27;: [5, 10, 20],\n",
              "                         &#x27;n_estimators&#x27;: [25, 50, 100, 150]},\n",
              "             scoring=&#x27;f1&#x27;)</pre></div></div></div><div class=\"sk-parallel\"><div class=\"sk-parallel-item\"><div class=\"sk-item\"><div class=\"sk-label-container\"><div class=\"sk-label sk-toggleable\"><input class=\"sk-toggleable__control sk-hidden--visually\" id=\"sk-estimator-id-5\" type=\"checkbox\" ><label for=\"sk-estimator-id-5\" class=\"sk-toggleable__label sk-toggleable__label-arrow\">estimator: RandomForestClassifier</label><div class=\"sk-toggleable__content\"><pre>RandomForestClassifier(random_state=666)</pre></div></div></div><div class=\"sk-serial\"><div class=\"sk-item\"><div class=\"sk-estimator sk-toggleable\"><input class=\"sk-toggleable__control sk-hidden--visually\" id=\"sk-estimator-id-6\" type=\"checkbox\" ><label for=\"sk-estimator-id-6\" class=\"sk-toggleable__label sk-toggleable__label-arrow\">RandomForestClassifier</label><div class=\"sk-toggleable__content\"><pre>RandomForestClassifier(random_state=666)</pre></div></div></div></div></div></div></div></div></div></div>"
            ]
          },
          "metadata": {},
          "execution_count": 29
        }
      ],
      "source": [
        "parameters = {\n",
        "    'n_estimators' : [25,50,100,150],\n",
        "    'criterion' : ['gini', 'entropy'],\n",
        "    'max_depth':[5,10,20],\n",
        "    'class_weight' : ['balanced']\n",
        "}\n",
        "\n",
        "rfc = RandomForestClassifier(random_state=666)\n",
        "\n",
        "rfc_balanced = GridSearchCV(\n",
        "    estimator = rfc,\n",
        "    param_grid = parameters,\n",
        "    scoring = 'f1',\n",
        "    cv=5)\n",
        "\n",
        "rfc_balanced.fit(features_train, target_train)"
      ]
    },
    {
      "cell_type": "code",
      "execution_count": null,
      "metadata": {
        "id": "ZKYNPZ7UjKpe",
        "outputId": "951cd424-4570-4708-a8a9-c83b922b9e6f",
        "colab": {
          "base_uri": "https://localhost:8080/"
        }
      },
      "outputs": [
        {
          "output_type": "stream",
          "name": "stdout",
          "text": [
            "F1: 0.6017052375152254\n",
            "ROC_auc: 0.8592733890038426\n"
          ]
        }
      ],
      "source": [
        "model_rfc_balanced = rfc_balanced.best_estimator_.fit(features_train, target_train)\n",
        "predicted_valid = model_rfc_balanced.predict(features_valid)\n",
        "\n",
        "probabilities_valid = model_rfc_balanced.predict_proba(features_valid)\n",
        "probabilities_one_valid = probabilities_valid[:, 1]\n",
        "\n",
        "print(\"F1:\", f1_score(target_valid, predicted_valid))\n",
        "print(\"ROC_auc:\", roc_auc_score(target_valid, probabilities_one_valid))"
      ]
    },
    {
      "cell_type": "markdown",
      "metadata": {
        "id": "RCi4lYIWjKpe"
      },
      "source": [
        "Рассчитаю оптимальный порог:"
      ]
    },
    {
      "cell_type": "code",
      "execution_count": null,
      "metadata": {
        "scrolled": true,
        "id": "V6W62suYjKpe",
        "outputId": "36d42792-e0ab-4769-9834-9eafdf4686e7",
        "colab": {
          "base_uri": "https://localhost:8080/"
        }
      },
      "outputs": [
        {
          "output_type": "stream",
          "name": "stdout",
          "text": [
            "Порог = 0.00 | Точность = 0.204 | Полнота = 1.000 | F1 = 0.339\n",
            "Порог = 0.02 | Точность = 0.204 | Полнота = 1.000 | F1 = 0.339\n",
            "Порог = 0.04 | Точность = 0.209 | Полнота = 1.000 | F1 = 0.346\n",
            "Порог = 0.06 | Точность = 0.218 | Полнота = 0.998 | F1 = 0.358\n",
            "Порог = 0.08 | Точность = 0.231 | Полнота = 0.995 | F1 = 0.375\n",
            "Порог = 0.10 | Точность = 0.244 | Полнота = 0.990 | F1 = 0.392\n",
            "Порог = 0.12 | Точность = 0.258 | Полнота = 0.988 | F1 = 0.410\n",
            "Порог = 0.14 | Точность = 0.272 | Полнота = 0.985 | F1 = 0.426\n",
            "Порог = 0.16 | Точность = 0.284 | Полнота = 0.971 | F1 = 0.439\n",
            "Порог = 0.18 | Точность = 0.296 | Полнота = 0.953 | F1 = 0.452\n",
            "Порог = 0.20 | Точность = 0.317 | Полнота = 0.941 | F1 = 0.474\n",
            "Порог = 0.22 | Точность = 0.332 | Полнота = 0.909 | F1 = 0.487\n",
            "Порог = 0.24 | Точность = 0.352 | Полнота = 0.892 | F1 = 0.505\n",
            "Порог = 0.26 | Точность = 0.368 | Полнота = 0.875 | F1 = 0.518\n",
            "Порог = 0.28 | Точность = 0.385 | Полнота = 0.860 | F1 = 0.532\n",
            "Порог = 0.30 | Точность = 0.404 | Полнота = 0.848 | F1 = 0.547\n",
            "Порог = 0.32 | Точность = 0.427 | Полнота = 0.831 | F1 = 0.564\n",
            "Порог = 0.34 | Точность = 0.444 | Полнота = 0.801 | F1 = 0.571\n",
            "Порог = 0.36 | Точность = 0.463 | Полнота = 0.787 | F1 = 0.583\n",
            "Порог = 0.38 | Точность = 0.485 | Полнота = 0.755 | F1 = 0.591\n",
            "Порог = 0.40 | Точность = 0.507 | Полнота = 0.718 | F1 = 0.594\n",
            "Порог = 0.42 | Точность = 0.535 | Полнота = 0.701 | F1 = 0.607\n",
            "Порог = 0.44 | Точность = 0.553 | Полнота = 0.676 | F1 = 0.609\n",
            "Порог = 0.46 | Точность = 0.573 | Полнота = 0.654 | F1 = 0.611\n",
            "Порог = 0.48 | Точность = 0.586 | Полнота = 0.635 | F1 = 0.609\n",
            "Порог = 0.50 | Точность = 0.598 | Полнота = 0.605 | F1 = 0.602\n",
            "Порог = 0.52 | Точность = 0.619 | Полнота = 0.581 | F1 = 0.599\n",
            "Порог = 0.54 | Точность = 0.643 | Полнота = 0.561 | F1 = 0.599\n",
            "Порог = 0.56 | Точность = 0.659 | Полнота = 0.539 | F1 = 0.593\n",
            "Порог = 0.58 | Точность = 0.668 | Полнота = 0.502 | F1 = 0.573\n",
            "Порог = 0.60 | Точность = 0.696 | Полнота = 0.488 | F1 = 0.573\n",
            "Порог = 0.62 | Точность = 0.702 | Полнота = 0.456 | F1 = 0.553\n",
            "Порог = 0.64 | Точность = 0.730 | Полнота = 0.451 | F1 = 0.558\n",
            "Порог = 0.66 | Точность = 0.768 | Полнота = 0.429 | F1 = 0.550\n",
            "Порог = 0.68 | Точность = 0.786 | Полнота = 0.414 | F1 = 0.543\n",
            "Порог = 0.70 | Точность = 0.809 | Полнота = 0.395 | F1 = 0.530\n",
            "Порог = 0.72 | Точность = 0.809 | Полнота = 0.353 | F1 = 0.491\n",
            "Порог = 0.74 | Точность = 0.829 | Полнота = 0.333 | F1 = 0.476\n",
            "Порог = 0.76 | Точность = 0.829 | Полнота = 0.321 | F1 = 0.463\n",
            "Порог = 0.78 | Точность = 0.853 | Полнота = 0.299 | F1 = 0.443\n"
          ]
        }
      ],
      "source": [
        "probabilities_valid = model_rfc_balanced.predict_proba(features_valid)\n",
        "probabilities_one_valid = probabilities_valid[:, 1]\n",
        "\n",
        "for threshold in np.arange(0, 0.8, 0.02):\n",
        "    predicted_valid = probabilities_one_valid > threshold\n",
        "    precision = precision_score(target_valid, predicted_valid)\n",
        "    recall = recall_score(target_valid, predicted_valid)\n",
        "    print(\"Порог = {:.2f} | Точность = {:.3f} | Полнота = {:.3f} | F1 = {:.3f}\".format(\n",
        "        threshold, precision, recall, f1_score(target_valid, predicted_valid)))"
      ]
    },
    {
      "cell_type": "markdown",
      "metadata": {
        "id": "yL24xdhUjKpe"
      },
      "source": [
        "После балансировки классов метрики на обоих моделях улучшили результаты.\n",
        "\n",
        "Для логистической регресии — Порог = 0.52 | Точность = 0.360 | Полнота = 0.635 | F1 = 0.459 | ROC_auc = 0.730\n",
        "\n",
        "Для случайного леса — Порог = 0.42 | Точность = 0.500 | Полнота = 0.676 | F1 = 0.575 | ROC_auc = 0.838"
      ]
    },
    {
      "cell_type": "markdown",
      "metadata": {
        "id": "S8fwPOHcjKpf"
      },
      "source": [
        "Upsampling"
      ]
    },
    {
      "cell_type": "code",
      "execution_count": null,
      "metadata": {
        "id": "PL6_c5wIjKpf"
      },
      "outputs": [],
      "source": [
        "def upsample(features, target, repeat):\n",
        "    features_zeros = features[target == 0]\n",
        "    features_ones = features[target == 1]\n",
        "    target_zeros = target[target == 0]\n",
        "    target_ones = target[target == 1]\n",
        "\n",
        "    features_upsampled = pd.concat([features_zeros] + [features_ones] * repeat)\n",
        "    target_upsampled = pd.concat([target_zeros] + [target_ones] * repeat)\n",
        "\n",
        "    features_upsampled, target_upsampled = shuffle(\n",
        "        features_upsampled, target_upsampled, random_state=12345)\n",
        "\n",
        "    return features_upsampled, target_upsampled"
      ]
    },
    {
      "cell_type": "code",
      "execution_count": null,
      "metadata": {
        "id": "cLMUbPNsjKpg",
        "outputId": "d1648bf1-d8c9-4b99-9d1f-ffa5a343b083",
        "colab": {
          "base_uri": "https://localhost:8080/"
        }
      },
      "outputs": [
        {
          "output_type": "stream",
          "name": "stdout",
          "text": [
            "1    4888\n",
            "0    4778\n",
            "Name: Exited, dtype: int64\n",
            "F1 для логистической регрессии: 0.4723874256584537\n",
            "Roc auc для логистической регрессии: 0.7452673908759483\n",
            "F1 для случайного леса: 0.592087312414734\n",
            "Roc auc для случайного леса: 0.853094362745098\n"
          ]
        }
      ],
      "source": [
        "features_upsampled, target_upsampled = upsample(features_train, target_train, 4)\n",
        "\n",
        "probabilities_valid_lr = lr.predict_proba(features_valid)\n",
        "probabilities_one_valid_lr = probabilities_valid_lr[:, 1]\n",
        "\n",
        "probabilities_valid_rfc = model_base_rfc.predict_proba(features_valid)\n",
        "probabilities_one_valid_rfc = probabilities_valid_rfc[:, 1]\n",
        "\n",
        "lr.fit(features_upsampled, target_upsampled)\n",
        "predicted_valid_lr = lr.predict(features_valid)\n",
        "rfc.fit(features_upsampled, target_upsampled)\n",
        "predicted_valid_rfc = rfc.predict(features_valid)\n",
        "\n",
        "print(target_upsampled.value_counts())\n",
        "print(\"F1 для логистической регрессии:\", f1_score(target_valid, predicted_valid_lr))\n",
        "print(\"Roc auc для логистической регрессии:\", roc_auc_score(target_valid, probabilities_one_valid_lr))\n",
        "print(\"F1 для случайного леса:\", f1_score(target_valid, predicted_valid_rfc))\n",
        "print(\"Roc auc для случайного леса:\", roc_auc_score(target_valid, probabilities_one_valid_rfc))"
      ]
    },
    {
      "cell_type": "markdown",
      "metadata": {
        "id": "-NSQewLGjKpg"
      },
      "source": [
        "Downsampling"
      ]
    },
    {
      "cell_type": "code",
      "execution_count": null,
      "metadata": {
        "id": "WJeoiTQRjKpg"
      },
      "outputs": [],
      "source": [
        "def downsample(features, target, fraction):\n",
        "    features_zeros = features[target == 0]\n",
        "    features_ones = features[target == 1]\n",
        "    target_zeros = target[target == 0]\n",
        "    target_ones = target[target == 1]\n",
        "\n",
        "    features_downsampled = shuffle(pd.concat([features_zeros.sample(frac=fraction, random_state=12345)] + [features_ones]), random_state=12345)\n",
        "    target_downsampled = shuffle(pd.concat([target_zeros.sample(frac=fraction, random_state=12345)] + [target_ones]), random_state=12345)\n",
        "\n",
        "    return features_downsampled, target_downsampled"
      ]
    },
    {
      "cell_type": "code",
      "execution_count": null,
      "metadata": {
        "id": "ajIRKWLEjKpg",
        "outputId": "4741c0d5-1ecb-4579-f643-51262d942778",
        "colab": {
          "base_uri": "https://localhost:8080/"
        }
      },
      "outputs": [
        {
          "output_type": "stream",
          "name": "stdout",
          "text": [
            "1    1222\n",
            "0    1194\n",
            "Name: Exited, dtype: int64\n",
            "F1 для логистической регрессии: 0.4708904109589041\n",
            "Roc auc для логистической регрессии: 0.7509021824810326\n",
            "F1 для случайного леса: 0.5847953216374269\n",
            "Roc auc для случайного леса: 0.853094362745098\n"
          ]
        }
      ],
      "source": [
        "features_downsampled, target_downsampled = downsample(features_train, target_train, 0.25)\n",
        "\n",
        "probabilities_valid_lr = lr.predict_proba(features_valid)\n",
        "probabilities_one_valid_lr = probabilities_valid_lr[:, 1]\n",
        "\n",
        "probabilities_valid_rfc = model_base_rfc.predict_proba(features_valid)\n",
        "probabilities_one_valid_rfc = probabilities_valid_rfc[:, 1]\n",
        "\n",
        "\n",
        "lr.fit(features_downsampled, target_downsampled)\n",
        "predicted_valid_lr = lr.predict(features_valid)\n",
        "rfc.fit(features_downsampled, target_downsampled)\n",
        "predicted_valid_rfc = rfc.predict(features_valid)\n",
        "\n",
        "print(target_downsampled.value_counts())\n",
        "print(\"F1 для логистической регрессии:\", f1_score(target_valid, predicted_valid_lr))\n",
        "print(\"Roc auc для логистической регрессии:\", roc_auc_score(target_valid, probabilities_one_valid_lr))\n",
        "print(\"F1 для случайного леса:\", f1_score(target_valid, predicted_valid_rfc))\n",
        "print(\"Roc auc для случайного леса:\", roc_auc_score(target_valid, probabilities_one_valid_rfc))"
      ]
    },
    {
      "cell_type": "markdown",
      "metadata": {
        "id": "F0qYAvngjKph"
      },
      "source": [
        "Наилучшего баланса классов при увеличения выборки удалось получить с repeat = 4:\n",
        "\n",
        "* F1 для логистической регрессии: 0.4351851851851851\n",
        "* Roc auc для логистической регрессии: 0.6434978199822643\n",
        "* F1 для случайного леса: 0.5922865013774106\n",
        "* Roc auc для случайного леса: 0.8525616747955463"
      ]
    },
    {
      "cell_type": "markdown",
      "metadata": {
        "id": "xGp-Axa_jKph"
      },
      "source": [
        "Наилучшего баланса классов при уменьшении выборки удалось получить с fraction = 0.3:\n",
        "\n",
        "* F1 для логистической регрессии: 0.4609595484477893\n",
        "* Roc auc для логистической регрессии: 0.6714762538181103\n",
        "* F1 для случайного леса: 0.5443037974683543\n",
        "* Roc auc для случайного леса: 0.7276086313922554"
      ]
    },
    {
      "cell_type": "markdown",
      "metadata": {
        "id": "o1HvG0aGjKph"
      },
      "source": [
        "Увеличение выборки при дисбалансе классов дало лучшие результаты, чем уменьшение. Но эти метрики значительно уступают, если устанавливать параметр баланс классов и не проводить манипуляции с выборками."
      ]
    },
    {
      "cell_type": "markdown",
      "source": [
        "# Tensor Flow"
      ],
      "metadata": {
        "id": "n0167Vr561QR"
      }
    },
    {
      "cell_type": "code",
      "source": [
        "model = keras.Sequential([\n",
        "    keras.layers.Dense(64, input_shape=(11,), activation='relu'),\n",
        "    keras.layers.Dense(32, activation='relu'),\n",
        "    keras.layers.Dense(16, activation='relu'),\n",
        "    keras.layers.Dense(1, activation='sigmoid')\n",
        "])\n",
        "\n",
        "model.compile(optimizer='adam',\n",
        "              loss='binary_crossentropy',\n",
        "              metrics=['accuracy'])"
      ],
      "metadata": {
        "id": "3gFg4jWc6y38"
      },
      "execution_count": null,
      "outputs": []
    },
    {
      "cell_type": "code",
      "source": [
        "sample_weights = np.ones(len(target_train))\n",
        "sample_weights[target_train == 1] = class_weights[1]\n",
        "\n",
        "model.fit(features_train, target_train, epochs=100, sample_weight=sample_weights)"
      ],
      "metadata": {
        "colab": {
          "base_uri": "https://localhost:8080/"
        },
        "id": "qppbHKBP7CRd",
        "outputId": "9a12e10b-ff8e-4a45-debd-a105a9382105"
      },
      "execution_count": null,
      "outputs": [
        {
          "output_type": "stream",
          "name": "stdout",
          "text": [
            "Epoch 1/100\n",
            "188/188 [==============================] - 2s 4ms/step - loss: 0.9473 - accuracy: 0.6812\n",
            "Epoch 2/100\n",
            "188/188 [==============================] - 1s 3ms/step - loss: 0.7863 - accuracy: 0.7503\n",
            "Epoch 3/100\n",
            "188/188 [==============================] - 0s 2ms/step - loss: 0.7457 - accuracy: 0.7743\n",
            "Epoch 4/100\n",
            "188/188 [==============================] - 0s 2ms/step - loss: 0.7281 - accuracy: 0.7798\n",
            "Epoch 5/100\n",
            "188/188 [==============================] - 0s 2ms/step - loss: 0.7194 - accuracy: 0.7827\n",
            "Epoch 6/100\n",
            "188/188 [==============================] - 0s 2ms/step - loss: 0.7050 - accuracy: 0.7965\n",
            "Epoch 7/100\n",
            "188/188 [==============================] - 0s 2ms/step - loss: 0.6991 - accuracy: 0.7963\n",
            "Epoch 8/100\n",
            "188/188 [==============================] - 0s 2ms/step - loss: 0.6911 - accuracy: 0.7992\n",
            "Epoch 9/100\n",
            "188/188 [==============================] - 0s 2ms/step - loss: 0.6840 - accuracy: 0.8020\n",
            "Epoch 10/100\n",
            "188/188 [==============================] - 0s 2ms/step - loss: 0.6800 - accuracy: 0.8032\n",
            "Epoch 11/100\n",
            "188/188 [==============================] - 0s 2ms/step - loss: 0.6754 - accuracy: 0.8045\n",
            "Epoch 12/100\n",
            "188/188 [==============================] - 0s 2ms/step - loss: 0.6675 - accuracy: 0.8077\n",
            "Epoch 13/100\n",
            "188/188 [==============================] - 0s 2ms/step - loss: 0.6647 - accuracy: 0.8113\n",
            "Epoch 14/100\n",
            "188/188 [==============================] - 0s 2ms/step - loss: 0.6563 - accuracy: 0.8098\n",
            "Epoch 15/100\n",
            "188/188 [==============================] - 0s 2ms/step - loss: 0.6507 - accuracy: 0.8148\n",
            "Epoch 16/100\n",
            "188/188 [==============================] - 0s 2ms/step - loss: 0.6491 - accuracy: 0.8167\n",
            "Epoch 17/100\n",
            "188/188 [==============================] - 0s 2ms/step - loss: 0.6415 - accuracy: 0.8152\n",
            "Epoch 18/100\n",
            "188/188 [==============================] - 0s 2ms/step - loss: 0.6427 - accuracy: 0.8122\n",
            "Epoch 19/100\n",
            "188/188 [==============================] - 0s 2ms/step - loss: 0.6360 - accuracy: 0.8180\n",
            "Epoch 20/100\n",
            "188/188 [==============================] - 0s 2ms/step - loss: 0.6268 - accuracy: 0.8183\n",
            "Epoch 21/100\n",
            "188/188 [==============================] - 0s 2ms/step - loss: 0.6344 - accuracy: 0.8217\n",
            "Epoch 22/100\n",
            "188/188 [==============================] - 0s 2ms/step - loss: 0.6185 - accuracy: 0.8177\n",
            "Epoch 23/100\n",
            "188/188 [==============================] - 0s 2ms/step - loss: 0.6182 - accuracy: 0.8240\n",
            "Epoch 24/100\n",
            "188/188 [==============================] - 0s 2ms/step - loss: 0.6161 - accuracy: 0.8243\n",
            "Epoch 25/100\n",
            "188/188 [==============================] - 0s 2ms/step - loss: 0.6122 - accuracy: 0.8225\n",
            "Epoch 26/100\n",
            "188/188 [==============================] - 0s 2ms/step - loss: 0.6030 - accuracy: 0.8272\n",
            "Epoch 27/100\n",
            "188/188 [==============================] - 0s 2ms/step - loss: 0.6000 - accuracy: 0.8280\n",
            "Epoch 28/100\n",
            "188/188 [==============================] - 1s 3ms/step - loss: 0.5925 - accuracy: 0.8318\n",
            "Epoch 29/100\n",
            "188/188 [==============================] - 1s 3ms/step - loss: 0.5930 - accuracy: 0.8337\n",
            "Epoch 30/100\n",
            "188/188 [==============================] - 1s 3ms/step - loss: 0.5873 - accuracy: 0.8343\n",
            "Epoch 31/100\n",
            "188/188 [==============================] - 1s 3ms/step - loss: 0.5824 - accuracy: 0.8363\n",
            "Epoch 32/100\n",
            "188/188 [==============================] - 1s 3ms/step - loss: 0.5780 - accuracy: 0.8323\n",
            "Epoch 33/100\n",
            "188/188 [==============================] - 1s 3ms/step - loss: 0.5750 - accuracy: 0.8392\n",
            "Epoch 34/100\n",
            "188/188 [==============================] - 1s 4ms/step - loss: 0.5706 - accuracy: 0.8363\n",
            "Epoch 35/100\n",
            "188/188 [==============================] - 1s 3ms/step - loss: 0.5663 - accuracy: 0.8368\n",
            "Epoch 36/100\n",
            "188/188 [==============================] - 1s 4ms/step - loss: 0.5659 - accuracy: 0.8405\n",
            "Epoch 37/100\n",
            "188/188 [==============================] - 1s 5ms/step - loss: 0.5581 - accuracy: 0.8397\n",
            "Epoch 38/100\n",
            "188/188 [==============================] - 1s 5ms/step - loss: 0.5587 - accuracy: 0.8405\n",
            "Epoch 39/100\n",
            "188/188 [==============================] - 1s 6ms/step - loss: 0.5621 - accuracy: 0.8397\n",
            "Epoch 40/100\n",
            "188/188 [==============================] - 2s 8ms/step - loss: 0.5526 - accuracy: 0.8437\n",
            "Epoch 41/100\n",
            "188/188 [==============================] - 0s 2ms/step - loss: 0.5475 - accuracy: 0.8423\n",
            "Epoch 42/100\n",
            "188/188 [==============================] - 0s 2ms/step - loss: 0.5406 - accuracy: 0.8478\n",
            "Epoch 43/100\n",
            "188/188 [==============================] - 0s 2ms/step - loss: 0.5350 - accuracy: 0.8462\n",
            "Epoch 44/100\n",
            "188/188 [==============================] - 0s 2ms/step - loss: 0.5359 - accuracy: 0.8510\n",
            "Epoch 45/100\n",
            "188/188 [==============================] - 0s 2ms/step - loss: 0.5316 - accuracy: 0.8522\n",
            "Epoch 46/100\n",
            "188/188 [==============================] - 0s 2ms/step - loss: 0.5299 - accuracy: 0.8473\n",
            "Epoch 47/100\n",
            "188/188 [==============================] - 0s 2ms/step - loss: 0.5233 - accuracy: 0.8485\n",
            "Epoch 48/100\n",
            "188/188 [==============================] - 0s 2ms/step - loss: 0.5200 - accuracy: 0.8533\n",
            "Epoch 49/100\n",
            "188/188 [==============================] - 0s 2ms/step - loss: 0.5220 - accuracy: 0.8480\n",
            "Epoch 50/100\n",
            "188/188 [==============================] - 0s 2ms/step - loss: 0.5108 - accuracy: 0.8553\n",
            "Epoch 51/100\n",
            "188/188 [==============================] - 0s 2ms/step - loss: 0.5061 - accuracy: 0.8595\n",
            "Epoch 52/100\n",
            "188/188 [==============================] - 1s 3ms/step - loss: 0.5077 - accuracy: 0.8572\n",
            "Epoch 53/100\n",
            "188/188 [==============================] - 1s 3ms/step - loss: 0.5020 - accuracy: 0.8575\n",
            "Epoch 54/100\n",
            "188/188 [==============================] - 1s 3ms/step - loss: 0.4983 - accuracy: 0.8588\n",
            "Epoch 55/100\n",
            "188/188 [==============================] - 1s 3ms/step - loss: 0.4940 - accuracy: 0.8608\n",
            "Epoch 56/100\n",
            "188/188 [==============================] - 1s 4ms/step - loss: 0.4891 - accuracy: 0.8628\n",
            "Epoch 57/100\n",
            "188/188 [==============================] - 1s 4ms/step - loss: 0.4960 - accuracy: 0.8537\n",
            "Epoch 58/100\n",
            "188/188 [==============================] - 1s 3ms/step - loss: 0.4804 - accuracy: 0.8600\n",
            "Epoch 59/100\n",
            "188/188 [==============================] - 1s 3ms/step - loss: 0.4902 - accuracy: 0.8602\n",
            "Epoch 60/100\n",
            "188/188 [==============================] - 0s 2ms/step - loss: 0.4783 - accuracy: 0.8630\n",
            "Epoch 61/100\n",
            "188/188 [==============================] - 0s 2ms/step - loss: 0.4792 - accuracy: 0.8620\n",
            "Epoch 62/100\n",
            "188/188 [==============================] - 0s 2ms/step - loss: 0.4732 - accuracy: 0.8620\n",
            "Epoch 63/100\n",
            "188/188 [==============================] - 0s 2ms/step - loss: 0.4678 - accuracy: 0.8648\n",
            "Epoch 64/100\n",
            "188/188 [==============================] - 0s 2ms/step - loss: 0.4632 - accuracy: 0.8715\n",
            "Epoch 65/100\n",
            "188/188 [==============================] - 0s 2ms/step - loss: 0.4656 - accuracy: 0.8698\n",
            "Epoch 66/100\n",
            "188/188 [==============================] - 0s 2ms/step - loss: 0.4639 - accuracy: 0.8653\n",
            "Epoch 67/100\n",
            "188/188 [==============================] - 0s 2ms/step - loss: 0.4546 - accuracy: 0.8673\n",
            "Epoch 68/100\n",
            "188/188 [==============================] - 0s 2ms/step - loss: 0.4522 - accuracy: 0.8710\n",
            "Epoch 69/100\n",
            "188/188 [==============================] - 0s 2ms/step - loss: 0.4471 - accuracy: 0.8745\n",
            "Epoch 70/100\n",
            "188/188 [==============================] - 0s 2ms/step - loss: 0.4502 - accuracy: 0.8700\n",
            "Epoch 71/100\n",
            "188/188 [==============================] - 0s 2ms/step - loss: 0.4398 - accuracy: 0.8755\n",
            "Epoch 72/100\n",
            "188/188 [==============================] - 0s 2ms/step - loss: 0.4476 - accuracy: 0.8743\n",
            "Epoch 73/100\n",
            "188/188 [==============================] - 0s 2ms/step - loss: 0.4411 - accuracy: 0.8730\n",
            "Epoch 74/100\n",
            "188/188 [==============================] - 0s 2ms/step - loss: 0.4301 - accuracy: 0.8780\n",
            "Epoch 75/100\n",
            "188/188 [==============================] - 0s 2ms/step - loss: 0.4316 - accuracy: 0.8750\n",
            "Epoch 76/100\n",
            "188/188 [==============================] - 0s 2ms/step - loss: 0.4335 - accuracy: 0.8760\n",
            "Epoch 77/100\n",
            "188/188 [==============================] - 0s 2ms/step - loss: 0.4248 - accuracy: 0.8767\n",
            "Epoch 78/100\n",
            "188/188 [==============================] - 0s 2ms/step - loss: 0.4320 - accuracy: 0.8780\n",
            "Epoch 79/100\n",
            "188/188 [==============================] - 0s 2ms/step - loss: 0.4145 - accuracy: 0.8822\n",
            "Epoch 80/100\n",
            "188/188 [==============================] - 0s 2ms/step - loss: 0.4212 - accuracy: 0.8763\n",
            "Epoch 81/100\n",
            "188/188 [==============================] - 0s 2ms/step - loss: 0.4151 - accuracy: 0.8808\n",
            "Epoch 82/100\n",
            "188/188 [==============================] - 0s 2ms/step - loss: 0.4023 - accuracy: 0.8817\n",
            "Epoch 83/100\n",
            "188/188 [==============================] - 1s 3ms/step - loss: 0.4008 - accuracy: 0.8850\n",
            "Epoch 84/100\n",
            "188/188 [==============================] - 1s 3ms/step - loss: 0.4117 - accuracy: 0.8813\n",
            "Epoch 85/100\n",
            "188/188 [==============================] - 1s 4ms/step - loss: 0.4021 - accuracy: 0.8845\n",
            "Epoch 86/100\n",
            "188/188 [==============================] - 1s 3ms/step - loss: 0.3960 - accuracy: 0.8862\n",
            "Epoch 87/100\n",
            "188/188 [==============================] - 1s 3ms/step - loss: 0.3955 - accuracy: 0.8853\n",
            "Epoch 88/100\n",
            "188/188 [==============================] - 1s 3ms/step - loss: 0.3927 - accuracy: 0.8860\n",
            "Epoch 89/100\n",
            "188/188 [==============================] - 1s 3ms/step - loss: 0.3869 - accuracy: 0.8893\n",
            "Epoch 90/100\n",
            "188/188 [==============================] - 1s 4ms/step - loss: 0.3932 - accuracy: 0.8852\n",
            "Epoch 91/100\n",
            "188/188 [==============================] - 0s 2ms/step - loss: 0.3854 - accuracy: 0.8918\n",
            "Epoch 92/100\n",
            "188/188 [==============================] - 0s 2ms/step - loss: 0.3853 - accuracy: 0.8897\n",
            "Epoch 93/100\n",
            "188/188 [==============================] - 0s 2ms/step - loss: 0.3704 - accuracy: 0.8935\n",
            "Epoch 94/100\n",
            "188/188 [==============================] - 0s 2ms/step - loss: 0.3761 - accuracy: 0.8972\n",
            "Epoch 95/100\n",
            "188/188 [==============================] - 0s 3ms/step - loss: 0.3735 - accuracy: 0.8883\n",
            "Epoch 96/100\n",
            "188/188 [==============================] - 0s 2ms/step - loss: 0.3655 - accuracy: 0.8935\n",
            "Epoch 97/100\n",
            "188/188 [==============================] - 0s 2ms/step - loss: 0.3613 - accuracy: 0.8968\n",
            "Epoch 98/100\n",
            "188/188 [==============================] - 1s 4ms/step - loss: 0.3544 - accuracy: 0.9002\n",
            "Epoch 99/100\n",
            "188/188 [==============================] - 1s 4ms/step - loss: 0.3630 - accuracy: 0.8960\n",
            "Epoch 100/100\n",
            "188/188 [==============================] - 1s 3ms/step - loss: 0.3540 - accuracy: 0.8972\n"
          ]
        },
        {
          "output_type": "execute_result",
          "data": {
            "text/plain": [
              "<keras.callbacks.History at 0x7f5a8bcc68c0>"
            ]
          },
          "metadata": {},
          "execution_count": 65
        }
      ]
    },
    {
      "cell_type": "code",
      "source": [
        "tf_predict = model.predict(features_valid)\n",
        "y_pred_binary = np.round(tf_predict)"
      ],
      "metadata": {
        "colab": {
          "base_uri": "https://localhost:8080/"
        },
        "id": "2og3xZUq7pOP",
        "outputId": "d90204bd-41ed-4b60-d398-fe6ef36e8b4d"
      },
      "execution_count": null,
      "outputs": [
        {
          "output_type": "stream",
          "name": "stdout",
          "text": [
            "63/63 [==============================] - 0s 1ms/step\n"
          ]
        }
      ]
    },
    {
      "cell_type": "code",
      "source": [
        "print(\"F1 для полносвязной нейросети:\", f1_score(target_valid, y_pred_binary))\n",
        "print(\"Roc auc для полносвязной нейросети:\", roc_auc_score(target_valid, y_pred_binary))"
      ],
      "metadata": {
        "colab": {
          "base_uri": "https://localhost:8080/"
        },
        "id": "mgCg9gH877QH",
        "outputId": "994fe324-bf44-416e-811f-e60aae790012"
      },
      "execution_count": null,
      "outputs": [
        {
          "output_type": "stream",
          "name": "stdout",
          "text": [
            "F1 для полносвязной нейросети: 0.5333333333333333\n",
            "Roc auc для полносвязной нейросети: 0.7178662922455413\n"
          ]
        }
      ]
    },
    {
      "cell_type": "markdown",
      "metadata": {
        "id": "FM3bsYfKjKph"
      },
      "source": [
        "## Тестирование модели"
      ]
    },
    {
      "cell_type": "markdown",
      "metadata": {
        "id": "NyJlY3mljKph"
      },
      "source": [
        "Лучше всего себя показала полносвязная нейросеть с балансировкой классов. Проверю ее на тестовой выборке."
      ]
    },
    {
      "cell_type": "code",
      "source": [
        "probabilities_test = model.predict(features_test)\n",
        "probabilities_one_test = probabilities_test.flatten()\n",
        "\n",
        "threshold = 0.42\n",
        "\n",
        "predicted_test = (probabilities_one_test > threshold).astype(int)\n",
        "\n",
        "precision = precision_score(target_test, predicted_test)\n",
        "recall = recall_score(target_test, predicted_test)\n",
        "f1 = f1_score(target_test, predicted_test)\n",
        "accuracy = accuracy_score(target_test, predicted_test)\n",
        "\n",
        "print(\"Порог = {:.2f} | Точность = {:.3f} | Полнота = {:.3f} | F1 = {:.3f} | Accuracy = {:.3f}\".format(\n",
        "    threshold, precision, recall, f1, accuracy))"
      ],
      "metadata": {
        "colab": {
          "base_uri": "https://localhost:8080/"
        },
        "id": "ybpEhiDS88sU",
        "outputId": "036339ee-f657-4a87-9e8a-a0c115b81bb6"
      },
      "execution_count": null,
      "outputs": [
        {
          "output_type": "stream",
          "name": "stdout",
          "text": [
            "63/63 [==============================] - 0s 2ms/step\n",
            "Порог = 0.42 | Точность = 0.450 | Полнота = 0.614 | F1 = 0.520 | Accuracy = 0.769\n"
          ]
        }
      ]
    },
    {
      "cell_type": "code",
      "execution_count": null,
      "metadata": {
        "id": "DCouwtyyjKpi",
        "outputId": "698153ec-2658-4d8c-ac7e-53b8b00e2d6e",
        "colab": {
          "base_uri": "https://localhost:8080/"
        }
      },
      "outputs": [
        {
          "output_type": "stream",
          "name": "stdout",
          "text": [
            "Roc auc =  0.8013252081048691\n"
          ]
        }
      ],
      "source": [
        "print(\"Roc auc = \", roc_auc_score(target_test, probabilities_one_test))"
      ]
    },
    {
      "cell_type": "markdown",
      "metadata": {
        "id": "AlCI4-MujKpi"
      },
      "source": [
        "Модель на тестовой выборке показала результаты:\n",
        "\n",
        "Порог = 0.42 | Точность = 0.417 | Полнота = 0.794 | F1 = 0.547 | Accuracy = 0.733"
      ]
    },
    {
      "cell_type": "code",
      "execution_count": null,
      "metadata": {
        "id": "z-mXk7arjKpj"
      },
      "outputs": [],
      "source": [
        "fpr, tpr, thresholds = roc_curve(target_test, probabilities_one_test)"
      ]
    },
    {
      "cell_type": "code",
      "execution_count": null,
      "metadata": {
        "scrolled": true,
        "id": "VaoyXjubjKpj",
        "outputId": "2cf274ef-f458-4a47-e2af-0996bb008e32",
        "colab": {
          "base_uri": "https://localhost:8080/",
          "height": 598
        }
      },
      "outputs": [
        {
          "output_type": "display_data",
          "data": {
            "text/plain": [
              "<Figure size 640x480 with 0 Axes>"
            ]
          },
          "metadata": {}
        },
        {
          "output_type": "display_data",
          "data": {
            "text/plain": [
              "<Figure size 1000x600 with 1 Axes>"
            ],
            "image/png": "[encoded data removed]"
          },
          "metadata": {}
        }
      ],
      "source": [
        "plt.figure()\n",
        "\n",
        "plt.figure(figsize=(10,6))\n",
        "plt.plot([0, 1], [0, 1], linestyle='--')\n",
        "plt.xlim([0.0, 1.0])\n",
        "plt.ylim([0.0, 1.0])\n",
        "plt.plot(fpr,tpr)\n",
        "plt.xlabel('False Positive Rate')\n",
        "plt.ylabel('True Positive Rate')\n",
        "plt.title('ROC-кривая')\n",
        "plt.legend(('Случайная модель','Тестируемая модель'),\n",
        "           loc= 'upper left')\n",
        "plt.show()"
      ]
    },
    {
      "cell_type": "markdown",
      "metadata": {
        "id": "OWYzVYuAjKpj"
      },
      "source": [
        "**Вывод:**\n",
        "* модели со сбалансированными классами дали лучшие результаты, чем увеличение и уменьшение выборок\n",
        "* Порог = 0.42 | Точность = 0.450 | Полнота = 0.614 | F1 = 0.520 | Accuracy = 0.769\n"
      ]
    },
    {
      "cell_type": "code",
      "source": [],
      "metadata": {
        "id": "b5sCeZwm6Ql9"
      },
      "execution_count": null,
      "outputs": []
    }
  ],
  "metadata": {
    "ExecuteTimeLog": [
      {
        "duration": 389,
        "start_time": "2023-03-01T19:05:01.511Z"
      },
      {
        "duration": 2408,
        "start_time": "2023-03-01T19:05:12.190Z"
      },
      {
        "duration": 251,
        "start_time": "2023-03-01T19:06:24.867Z"
      },
      {
        "duration": 73,
        "start_time": "2023-03-01T19:07:07.395Z"
      },
      {
        "duration": 77,
        "start_time": "2023-03-01T19:09:11.225Z"
      },
      {
        "duration": 65,
        "start_time": "2023-03-01T19:09:26.637Z"
      },
      {
        "duration": 13,
        "start_time": "2023-03-01T19:09:34.516Z"
      },
      {
        "duration": 38,
        "start_time": "2023-03-01T19:09:42.667Z"
      },
      {
        "duration": 4,
        "start_time": "2023-03-01T19:12:14.389Z"
      },
      {
        "duration": 14,
        "start_time": "2023-03-01T19:12:45.880Z"
      },
      {
        "duration": 9,
        "start_time": "2023-03-01T19:13:38.103Z"
      },
      {
        "duration": 10,
        "start_time": "2023-03-01T19:17:28.693Z"
      },
      {
        "duration": 7,
        "start_time": "2023-03-01T19:20:53.783Z"
      },
      {
        "duration": 206,
        "start_time": "2023-03-01T19:20:58.974Z"
      },
      {
        "duration": 205,
        "start_time": "2023-03-01T19:21:05.878Z"
      },
      {
        "duration": 694,
        "start_time": "2023-03-01T19:21:09.535Z"
      },
      {
        "duration": 60,
        "start_time": "2023-03-01T19:21:10.325Z"
      },
      {
        "duration": 13,
        "start_time": "2023-03-01T19:21:11.662Z"
      },
      {
        "duration": 9,
        "start_time": "2023-03-01T19:21:12.132Z"
      },
      {
        "duration": 198,
        "start_time": "2023-03-01T19:21:12.575Z"
      },
      {
        "duration": 26,
        "start_time": "2023-03-01T19:21:19.295Z"
      },
      {
        "duration": 3,
        "start_time": "2023-03-01T19:22:44.916Z"
      },
      {
        "duration": 42,
        "start_time": "2023-03-01T19:22:45.563Z"
      },
      {
        "duration": 17,
        "start_time": "2023-03-01T19:22:45.974Z"
      },
      {
        "duration": 10,
        "start_time": "2023-03-01T19:22:46.368Z"
      },
      {
        "duration": 42,
        "start_time": "2023-03-01T19:22:46.790Z"
      },
      {
        "duration": 188,
        "start_time": "2023-03-01T19:22:47.345Z"
      },
      {
        "duration": 4,
        "start_time": "2023-03-01T19:23:03.371Z"
      },
      {
        "duration": 13,
        "start_time": "2023-03-01T19:23:04.162Z"
      },
      {
        "duration": 22,
        "start_time": "2023-03-01T19:23:05.036Z"
      },
      {
        "duration": 11,
        "start_time": "2023-03-01T19:26:24.466Z"
      },
      {
        "duration": 51,
        "start_time": "2023-03-01T19:26:45.265Z"
      },
      {
        "duration": 91,
        "start_time": "2023-03-01T19:27:41.500Z"
      },
      {
        "duration": 9,
        "start_time": "2023-03-01T19:31:04.876Z"
      },
      {
        "duration": 3,
        "start_time": "2023-03-01T19:31:25.907Z"
      },
      {
        "duration": 8,
        "start_time": "2023-03-01T19:31:28.068Z"
      },
      {
        "duration": 871,
        "start_time": "2023-03-01T19:31:32.964Z"
      },
      {
        "duration": 5,
        "start_time": "2023-03-01T19:33:35.243Z"
      },
      {
        "duration": 4,
        "start_time": "2023-03-01T19:33:42.984Z"
      },
      {
        "duration": 683,
        "start_time": "2023-03-01T19:36:16.363Z"
      },
      {
        "duration": 102,
        "start_time": "2023-03-01T19:36:19.491Z"
      },
      {
        "duration": 3,
        "start_time": "2023-03-01T19:39:32.562Z"
      },
      {
        "duration": 61,
        "start_time": "2023-03-01T19:39:32.567Z"
      },
      {
        "duration": 11,
        "start_time": "2023-03-01T19:39:32.629Z"
      },
      {
        "duration": 14,
        "start_time": "2023-03-01T19:39:32.642Z"
      },
      {
        "duration": 16,
        "start_time": "2023-03-01T19:39:32.658Z"
      },
      {
        "duration": 24,
        "start_time": "2023-03-01T19:39:32.675Z"
      },
      {
        "duration": 109,
        "start_time": "2023-03-01T19:39:32.700Z"
      },
      {
        "duration": 1121,
        "start_time": "2023-03-01T19:39:32.810Z"
      },
      {
        "duration": 13,
        "start_time": "2023-03-01T19:43:47.907Z"
      },
      {
        "duration": 26,
        "start_time": "2023-03-01T19:44:41.090Z"
      },
      {
        "duration": 55,
        "start_time": "2023-03-02T17:22:30.320Z"
      },
      {
        "duration": 1066,
        "start_time": "2023-03-02T17:23:14.072Z"
      },
      {
        "duration": 389,
        "start_time": "2023-03-02T17:23:15.140Z"
      },
      {
        "duration": 11,
        "start_time": "2023-03-02T17:23:15.530Z"
      },
      {
        "duration": 3,
        "start_time": "2023-03-02T17:23:15.543Z"
      },
      {
        "duration": 19,
        "start_time": "2023-03-02T17:23:15.548Z"
      },
      {
        "duration": 11,
        "start_time": "2023-03-02T17:23:15.569Z"
      },
      {
        "duration": 8,
        "start_time": "2023-03-02T17:23:15.581Z"
      },
      {
        "duration": 24,
        "start_time": "2023-03-02T17:23:15.591Z"
      },
      {
        "duration": 6,
        "start_time": "2023-03-02T17:23:15.617Z"
      },
      {
        "duration": 6,
        "start_time": "2023-03-02T17:24:29.282Z"
      },
      {
        "duration": 8,
        "start_time": "2023-03-02T17:24:40.470Z"
      },
      {
        "duration": 19,
        "start_time": "2023-03-02T17:25:04.598Z"
      },
      {
        "duration": 6,
        "start_time": "2023-03-02T17:25:34.412Z"
      },
      {
        "duration": 17,
        "start_time": "2023-03-02T17:26:36.079Z"
      },
      {
        "duration": 7,
        "start_time": "2023-03-02T17:27:51.379Z"
      },
      {
        "duration": 6,
        "start_time": "2023-03-02T17:28:05.280Z"
      },
      {
        "duration": 4,
        "start_time": "2023-03-02T17:28:08.304Z"
      },
      {
        "duration": 4,
        "start_time": "2023-03-02T17:28:13.708Z"
      },
      {
        "duration": 7,
        "start_time": "2023-03-02T17:28:15.428Z"
      },
      {
        "duration": 5,
        "start_time": "2023-03-02T17:28:23.870Z"
      },
      {
        "duration": 7,
        "start_time": "2023-03-02T17:28:27.498Z"
      },
      {
        "duration": 7,
        "start_time": "2023-03-02T17:28:45.489Z"
      },
      {
        "duration": 5,
        "start_time": "2023-03-02T17:28:48.250Z"
      },
      {
        "duration": 4,
        "start_time": "2023-03-02T17:28:55.526Z"
      },
      {
        "duration": 4,
        "start_time": "2023-03-02T17:28:59.068Z"
      },
      {
        "duration": 51,
        "start_time": "2023-03-02T17:28:59.074Z"
      },
      {
        "duration": 11,
        "start_time": "2023-03-02T17:28:59.126Z"
      },
      {
        "duration": 4,
        "start_time": "2023-03-02T17:28:59.138Z"
      },
      {
        "duration": 21,
        "start_time": "2023-03-02T17:28:59.144Z"
      },
      {
        "duration": 11,
        "start_time": "2023-03-02T17:28:59.166Z"
      },
      {
        "duration": 15,
        "start_time": "2023-03-02T17:28:59.179Z"
      },
      {
        "duration": 24,
        "start_time": "2023-03-02T17:28:59.196Z"
      },
      {
        "duration": 6,
        "start_time": "2023-03-02T17:28:59.222Z"
      },
      {
        "duration": 31,
        "start_time": "2023-03-02T17:28:59.230Z"
      },
      {
        "duration": 3,
        "start_time": "2023-03-02T17:28:59.262Z"
      },
      {
        "duration": 18,
        "start_time": "2023-03-02T17:28:59.266Z"
      },
      {
        "duration": 8,
        "start_time": "2023-03-02T17:29:17.213Z"
      },
      {
        "duration": 3,
        "start_time": "2023-03-02T17:29:20.222Z"
      },
      {
        "duration": 49,
        "start_time": "2023-03-02T17:29:20.227Z"
      },
      {
        "duration": 12,
        "start_time": "2023-03-02T17:29:20.277Z"
      },
      {
        "duration": 8,
        "start_time": "2023-03-02T17:29:20.291Z"
      },
      {
        "duration": 9,
        "start_time": "2023-03-02T17:29:20.300Z"
      },
      {
        "duration": 12,
        "start_time": "2023-03-02T17:29:20.311Z"
      },
      {
        "duration": 31,
        "start_time": "2023-03-02T17:29:20.325Z"
      },
      {
        "duration": 24,
        "start_time": "2023-03-02T17:29:20.358Z"
      },
      {
        "duration": 8,
        "start_time": "2023-03-02T17:29:20.383Z"
      },
      {
        "duration": 18,
        "start_time": "2023-03-02T17:29:20.393Z"
      },
      {
        "duration": 3,
        "start_time": "2023-03-02T17:29:20.413Z"
      },
      {
        "duration": 39,
        "start_time": "2023-03-02T17:29:20.417Z"
      },
      {
        "duration": 58,
        "start_time": "2023-03-02T17:56:44.439Z"
      },
      {
        "duration": 100,
        "start_time": "2023-03-02T17:58:05.289Z"
      },
      {
        "duration": 21,
        "start_time": "2023-03-02T17:58:39.060Z"
      },
      {
        "duration": 16,
        "start_time": "2023-03-02T17:59:26.491Z"
      },
      {
        "duration": 17,
        "start_time": "2023-03-02T18:00:08.440Z"
      },
      {
        "duration": 12,
        "start_time": "2023-03-02T18:00:50.945Z"
      },
      {
        "duration": 429,
        "start_time": "2023-03-02T18:01:04.935Z"
      },
      {
        "duration": 23,
        "start_time": "2023-03-02T18:01:08.890Z"
      },
      {
        "duration": 3,
        "start_time": "2023-03-02T18:03:16.747Z"
      },
      {
        "duration": 17,
        "start_time": "2023-03-02T18:03:19.300Z"
      },
      {
        "duration": 17,
        "start_time": "2023-03-02T18:07:08.885Z"
      },
      {
        "duration": 4,
        "start_time": "2023-03-02T18:07:15.412Z"
      },
      {
        "duration": 49,
        "start_time": "2023-03-02T18:07:15.896Z"
      },
      {
        "duration": 12,
        "start_time": "2023-03-02T18:07:16.524Z"
      },
      {
        "duration": 4,
        "start_time": "2023-03-02T18:07:22.128Z"
      },
      {
        "duration": 10,
        "start_time": "2023-03-02T18:07:22.653Z"
      },
      {
        "duration": 11,
        "start_time": "2023-03-02T18:07:23.176Z"
      },
      {
        "duration": 8,
        "start_time": "2023-03-02T18:07:25.111Z"
      },
      {
        "duration": 17,
        "start_time": "2023-03-02T18:07:27.129Z"
      },
      {
        "duration": 3,
        "start_time": "2023-03-02T18:07:33.347Z"
      },
      {
        "duration": 46,
        "start_time": "2023-03-02T18:07:33.685Z"
      },
      {
        "duration": 12,
        "start_time": "2023-03-02T18:07:34.109Z"
      },
      {
        "duration": 4,
        "start_time": "2023-03-02T18:07:34.681Z"
      },
      {
        "duration": 9,
        "start_time": "2023-03-02T18:07:40.757Z"
      },
      {
        "duration": 18,
        "start_time": "2023-03-02T18:07:42.869Z"
      },
      {
        "duration": 6,
        "start_time": "2023-03-02T18:09:00.863Z"
      },
      {
        "duration": 3,
        "start_time": "2023-03-02T18:09:05.518Z"
      },
      {
        "duration": 48,
        "start_time": "2023-03-02T18:09:05.523Z"
      },
      {
        "duration": 12,
        "start_time": "2023-03-02T18:09:05.573Z"
      },
      {
        "duration": 4,
        "start_time": "2023-03-02T18:09:05.587Z"
      },
      {
        "duration": 10,
        "start_time": "2023-03-02T18:09:05.594Z"
      },
      {
        "duration": 18,
        "start_time": "2023-03-02T18:09:05.605Z"
      },
      {
        "duration": 35,
        "start_time": "2023-03-02T18:09:05.625Z"
      },
      {
        "duration": 36,
        "start_time": "2023-03-02T18:09:05.662Z"
      },
      {
        "duration": 6,
        "start_time": "2023-03-02T18:09:05.699Z"
      },
      {
        "duration": 27,
        "start_time": "2023-03-02T18:09:05.706Z"
      },
      {
        "duration": 3,
        "start_time": "2023-03-02T18:09:05.735Z"
      },
      {
        "duration": 18,
        "start_time": "2023-03-02T18:09:05.739Z"
      },
      {
        "duration": 5,
        "start_time": "2023-03-02T18:09:05.758Z"
      },
      {
        "duration": 18,
        "start_time": "2023-03-02T18:09:05.765Z"
      },
      {
        "duration": 0,
        "start_time": "2023-03-02T18:09:05.784Z"
      },
      {
        "duration": 6,
        "start_time": "2023-03-02T18:09:29.532Z"
      },
      {
        "duration": 3,
        "start_time": "2023-03-02T18:13:09.703Z"
      },
      {
        "duration": 58,
        "start_time": "2023-03-02T18:13:09.743Z"
      },
      {
        "duration": 12,
        "start_time": "2023-03-02T18:13:09.803Z"
      },
      {
        "duration": 4,
        "start_time": "2023-03-02T18:13:09.817Z"
      },
      {
        "duration": 10,
        "start_time": "2023-03-02T18:13:09.823Z"
      },
      {
        "duration": 10,
        "start_time": "2023-03-02T18:13:09.836Z"
      },
      {
        "duration": 10,
        "start_time": "2023-03-02T18:13:09.854Z"
      },
      {
        "duration": 25,
        "start_time": "2023-03-02T18:13:09.865Z"
      },
      {
        "duration": 5,
        "start_time": "2023-03-02T18:13:09.892Z"
      },
      {
        "duration": 17,
        "start_time": "2023-03-02T18:13:09.898Z"
      },
      {
        "duration": 3,
        "start_time": "2023-03-02T18:13:09.917Z"
      },
      {
        "duration": 35,
        "start_time": "2023-03-02T18:13:09.922Z"
      },
      {
        "duration": 21,
        "start_time": "2023-03-02T18:13:09.959Z"
      },
      {
        "duration": 0,
        "start_time": "2023-03-02T18:13:09.981Z"
      },
      {
        "duration": 3,
        "start_time": "2023-03-02T18:14:37.523Z"
      },
      {
        "duration": 45,
        "start_time": "2023-03-02T18:14:37.827Z"
      },
      {
        "duration": 12,
        "start_time": "2023-03-02T18:14:38.342Z"
      },
      {
        "duration": 3,
        "start_time": "2023-03-02T18:14:38.761Z"
      },
      {
        "duration": 10,
        "start_time": "2023-03-02T18:14:41.169Z"
      },
      {
        "duration": 10,
        "start_time": "2023-03-02T18:14:42.175Z"
      },
      {
        "duration": 20,
        "start_time": "2023-03-02T18:14:44.103Z"
      },
      {
        "duration": 21,
        "start_time": "2023-03-02T18:15:09.733Z"
      },
      {
        "duration": 3,
        "start_time": "2023-03-02T18:15:19.873Z"
      },
      {
        "duration": 47,
        "start_time": "2023-03-02T18:15:19.899Z"
      },
      {
        "duration": 17,
        "start_time": "2023-03-02T18:15:19.948Z"
      },
      {
        "duration": 6,
        "start_time": "2023-03-02T18:15:19.966Z"
      },
      {
        "duration": 12,
        "start_time": "2023-03-02T18:15:19.973Z"
      },
      {
        "duration": 10,
        "start_time": "2023-03-02T18:15:19.987Z"
      },
      {
        "duration": 20,
        "start_time": "2023-03-02T18:15:19.999Z"
      },
      {
        "duration": 6,
        "start_time": "2023-03-02T18:15:20.020Z"
      },
      {
        "duration": 49,
        "start_time": "2023-03-02T18:15:20.028Z"
      },
      {
        "duration": 4,
        "start_time": "2023-03-02T18:15:20.078Z"
      },
      {
        "duration": 5,
        "start_time": "2023-03-02T18:15:20.084Z"
      },
      {
        "duration": 17,
        "start_time": "2023-03-02T18:15:20.090Z"
      },
      {
        "duration": 19,
        "start_time": "2023-03-02T18:15:20.108Z"
      },
      {
        "duration": 38,
        "start_time": "2023-03-02T18:15:20.129Z"
      },
      {
        "duration": 3,
        "start_time": "2023-03-02T18:15:56.012Z"
      },
      {
        "duration": 13,
        "start_time": "2023-03-02T18:15:59.585Z"
      },
      {
        "duration": 2,
        "start_time": "2023-03-02T18:17:00.737Z"
      },
      {
        "duration": 13,
        "start_time": "2023-03-02T18:17:03.673Z"
      },
      {
        "duration": 3,
        "start_time": "2023-03-02T18:17:12.095Z"
      },
      {
        "duration": 14,
        "start_time": "2023-03-02T18:17:37.890Z"
      },
      {
        "duration": 13,
        "start_time": "2023-03-02T18:17:50.049Z"
      },
      {
        "duration": 22,
        "start_time": "2023-03-02T18:17:57.641Z"
      },
      {
        "duration": 432,
        "start_time": "2023-03-02T18:18:00.206Z"
      },
      {
        "duration": 4,
        "start_time": "2023-03-02T18:18:14.845Z"
      },
      {
        "duration": 367,
        "start_time": "2023-03-02T18:18:18.261Z"
      },
      {
        "duration": 2,
        "start_time": "2023-03-02T18:18:42.688Z"
      },
      {
        "duration": 627,
        "start_time": "2023-03-02T18:18:43.166Z"
      },
      {
        "duration": 4,
        "start_time": "2023-03-02T18:18:54.602Z"
      },
      {
        "duration": 9,
        "start_time": "2023-03-02T18:20:51.447Z"
      },
      {
        "duration": 3,
        "start_time": "2023-03-02T18:20:54.035Z"
      },
      {
        "duration": 71,
        "start_time": "2023-03-02T18:20:54.040Z"
      },
      {
        "duration": 11,
        "start_time": "2023-03-02T18:20:54.113Z"
      },
      {
        "duration": 11,
        "start_time": "2023-03-02T18:20:54.126Z"
      },
      {
        "duration": 17,
        "start_time": "2023-03-02T18:20:54.138Z"
      },
      {
        "duration": 26,
        "start_time": "2023-03-02T18:20:54.156Z"
      },
      {
        "duration": 30,
        "start_time": "2023-03-02T18:20:54.184Z"
      },
      {
        "duration": 6,
        "start_time": "2023-03-02T18:20:54.215Z"
      },
      {
        "duration": 11,
        "start_time": "2023-03-02T18:20:54.223Z"
      },
      {
        "duration": 11,
        "start_time": "2023-03-02T18:20:54.237Z"
      },
      {
        "duration": 18,
        "start_time": "2023-03-02T18:20:54.249Z"
      },
      {
        "duration": 7,
        "start_time": "2023-03-02T18:20:54.268Z"
      },
      {
        "duration": 19,
        "start_time": "2023-03-02T18:20:54.276Z"
      },
      {
        "duration": 591,
        "start_time": "2023-03-02T18:20:54.296Z"
      },
      {
        "duration": 571,
        "start_time": "2023-03-02T18:21:12.389Z"
      },
      {
        "duration": 6,
        "start_time": "2023-03-02T18:22:49.460Z"
      },
      {
        "duration": 63,
        "start_time": "2023-03-02T18:23:04.541Z"
      },
      {
        "duration": 38,
        "start_time": "2023-03-02T18:23:45.456Z"
      },
      {
        "duration": 20,
        "start_time": "2023-03-02T18:24:05.373Z"
      },
      {
        "duration": 6,
        "start_time": "2023-03-02T18:24:31.624Z"
      },
      {
        "duration": 3,
        "start_time": "2023-03-02T18:25:01.267Z"
      },
      {
        "duration": 63,
        "start_time": "2023-03-02T18:25:01.272Z"
      },
      {
        "duration": 11,
        "start_time": "2023-03-02T18:25:01.337Z"
      },
      {
        "duration": 12,
        "start_time": "2023-03-02T18:25:01.350Z"
      },
      {
        "duration": 37,
        "start_time": "2023-03-02T18:25:01.364Z"
      },
      {
        "duration": 38,
        "start_time": "2023-03-02T18:25:01.403Z"
      },
      {
        "duration": 30,
        "start_time": "2023-03-02T18:25:01.442Z"
      },
      {
        "duration": 21,
        "start_time": "2023-03-02T18:25:01.474Z"
      },
      {
        "duration": 31,
        "start_time": "2023-03-02T18:25:01.497Z"
      },
      {
        "duration": 25,
        "start_time": "2023-03-02T18:25:01.531Z"
      },
      {
        "duration": 36,
        "start_time": "2023-03-02T18:25:01.558Z"
      },
      {
        "duration": 31,
        "start_time": "2023-03-02T18:25:01.595Z"
      },
      {
        "duration": 81,
        "start_time": "2023-03-02T18:25:01.628Z"
      },
      {
        "duration": 7,
        "start_time": "2023-03-02T18:25:01.711Z"
      },
      {
        "duration": 22,
        "start_time": "2023-03-02T18:25:01.720Z"
      },
      {
        "duration": 515,
        "start_time": "2023-03-02T18:25:01.743Z"
      },
      {
        "duration": 13,
        "start_time": "2023-03-02T18:27:48.382Z"
      },
      {
        "duration": 57,
        "start_time": "2023-03-02T18:28:00.558Z"
      },
      {
        "duration": 18,
        "start_time": "2023-03-02T18:28:05.108Z"
      },
      {
        "duration": 4,
        "start_time": "2023-03-02T18:28:22.108Z"
      },
      {
        "duration": 14,
        "start_time": "2023-03-02T18:28:25.955Z"
      },
      {
        "duration": 557,
        "start_time": "2023-03-02T18:28:44.157Z"
      },
      {
        "duration": 512,
        "start_time": "2023-03-02T18:29:05.359Z"
      },
      {
        "duration": 500,
        "start_time": "2023-03-02T18:31:50.368Z"
      },
      {
        "duration": 488,
        "start_time": "2023-03-02T18:31:56.489Z"
      },
      {
        "duration": 17,
        "start_time": "2023-03-02T18:34:17.624Z"
      },
      {
        "duration": 10,
        "start_time": "2023-03-02T18:34:19.486Z"
      },
      {
        "duration": 4,
        "start_time": "2023-03-02T18:34:43.736Z"
      },
      {
        "duration": 11,
        "start_time": "2023-03-02T18:34:48.028Z"
      },
      {
        "duration": 4,
        "start_time": "2023-03-02T18:34:59.698Z"
      },
      {
        "duration": 7,
        "start_time": "2023-03-02T18:35:06.306Z"
      },
      {
        "duration": 29,
        "start_time": "2023-03-02T18:36:29.719Z"
      },
      {
        "duration": 42,
        "start_time": "2023-03-02T18:37:45.412Z"
      },
      {
        "duration": 47,
        "start_time": "2023-03-02T18:38:43.609Z"
      },
      {
        "duration": 6,
        "start_time": "2023-03-02T18:38:44.078Z"
      },
      {
        "duration": 1504,
        "start_time": "2023-03-02T18:38:45.172Z"
      },
      {
        "duration": 6,
        "start_time": "2023-03-02T18:39:00.777Z"
      },
      {
        "duration": 19,
        "start_time": "2023-03-02T18:39:10.699Z"
      },
      {
        "duration": 1502,
        "start_time": "2023-03-02T18:39:15.017Z"
      },
      {
        "duration": 11,
        "start_time": "2023-03-02T18:39:17.924Z"
      },
      {
        "duration": 17,
        "start_time": "2023-03-02T18:39:38.086Z"
      },
      {
        "duration": 12,
        "start_time": "2023-03-02T18:39:42.789Z"
      },
      {
        "duration": 10,
        "start_time": "2023-03-02T18:41:48.436Z"
      },
      {
        "duration": 5,
        "start_time": "2023-03-02T18:42:10.583Z"
      },
      {
        "duration": 9,
        "start_time": "2023-03-02T18:42:15.970Z"
      },
      {
        "duration": 14,
        "start_time": "2023-03-02T18:42:40.493Z"
      },
      {
        "duration": 10,
        "start_time": "2023-03-02T18:44:21.179Z"
      },
      {
        "duration": 9,
        "start_time": "2023-03-02T18:44:43.624Z"
      },
      {
        "duration": 4,
        "start_time": "2023-03-02T18:44:52.572Z"
      },
      {
        "duration": 581,
        "start_time": "2023-03-02T18:44:58.866Z"
      },
      {
        "duration": 9,
        "start_time": "2023-03-02T18:45:02.872Z"
      },
      {
        "duration": 22,
        "start_time": "2023-03-02T18:47:10.841Z"
      },
      {
        "duration": 4,
        "start_time": "2023-03-02T18:47:36.430Z"
      },
      {
        "duration": 52,
        "start_time": "2023-03-02T18:47:42.017Z"
      },
      {
        "duration": 52,
        "start_time": "2023-03-02T18:48:27.000Z"
      },
      {
        "duration": 11,
        "start_time": "2023-03-02T18:49:58.391Z"
      },
      {
        "duration": 19,
        "start_time": "2023-03-02T18:51:50.893Z"
      },
      {
        "duration": 62,
        "start_time": "2023-03-02T18:51:54.034Z"
      },
      {
        "duration": 21,
        "start_time": "2023-03-02T18:52:00.043Z"
      },
      {
        "duration": 474,
        "start_time": "2023-03-02T18:52:34.151Z"
      },
      {
        "duration": 10,
        "start_time": "2023-03-02T18:52:39.648Z"
      },
      {
        "duration": 565,
        "start_time": "2023-03-02T18:58:48.931Z"
      },
      {
        "duration": 8,
        "start_time": "2023-03-02T18:58:49.498Z"
      },
      {
        "duration": 5,
        "start_time": "2023-03-02T19:00:17.071Z"
      },
      {
        "duration": 51,
        "start_time": "2023-03-02T19:00:17.079Z"
      },
      {
        "duration": 12,
        "start_time": "2023-03-02T19:00:17.132Z"
      },
      {
        "duration": 4,
        "start_time": "2023-03-02T19:00:17.146Z"
      },
      {
        "duration": 82,
        "start_time": "2023-03-02T19:00:17.153Z"
      },
      {
        "duration": 19,
        "start_time": "2023-03-02T19:00:17.237Z"
      },
      {
        "duration": 20,
        "start_time": "2023-03-02T19:00:17.258Z"
      },
      {
        "duration": 8,
        "start_time": "2023-03-02T19:00:17.279Z"
      },
      {
        "duration": 13,
        "start_time": "2023-03-02T19:00:17.290Z"
      },
      {
        "duration": 3,
        "start_time": "2023-03-02T19:00:17.305Z"
      },
      {
        "duration": 5,
        "start_time": "2023-03-02T19:00:17.310Z"
      },
      {
        "duration": 42,
        "start_time": "2023-03-02T19:00:17.317Z"
      },
      {
        "duration": 74,
        "start_time": "2023-03-02T19:00:17.361Z"
      },
      {
        "duration": 20,
        "start_time": "2023-03-02T19:00:17.439Z"
      },
      {
        "duration": 105,
        "start_time": "2023-03-02T19:00:17.461Z"
      },
      {
        "duration": 95,
        "start_time": "2023-03-02T19:00:17.568Z"
      },
      {
        "duration": 595,
        "start_time": "2023-03-02T19:00:17.665Z"
      },
      {
        "duration": 8,
        "start_time": "2023-03-02T19:00:18.261Z"
      },
      {
        "duration": 587,
        "start_time": "2023-03-02T19:00:18.271Z"
      },
      {
        "duration": 84,
        "start_time": "2023-03-02T19:00:18.860Z"
      },
      {
        "duration": 52,
        "start_time": "2023-03-02T19:00:18.945Z"
      },
      {
        "duration": 461,
        "start_time": "2023-03-02T19:00:18.999Z"
      },
      {
        "duration": 9,
        "start_time": "2023-03-02T19:00:19.462Z"
      },
      {
        "duration": 611,
        "start_time": "2023-03-02T19:12:39.553Z"
      },
      {
        "duration": 656,
        "start_time": "2023-03-02T19:13:38.374Z"
      },
      {
        "duration": 467,
        "start_time": "2023-03-02T19:13:39.605Z"
      },
      {
        "duration": 18,
        "start_time": "2023-03-02T19:13:55.388Z"
      },
      {
        "duration": 500,
        "start_time": "2023-03-02T19:14:02.605Z"
      },
      {
        "duration": 465,
        "start_time": "2023-03-02T19:14:43.073Z"
      },
      {
        "duration": 345,
        "start_time": "2023-03-02T19:14:51.934Z"
      },
      {
        "duration": 10,
        "start_time": "2023-03-02T19:15:27.824Z"
      },
      {
        "duration": 48,
        "start_time": "2023-03-02T19:15:50.409Z"
      },
      {
        "duration": 76,
        "start_time": "2023-03-02T19:21:35.816Z"
      },
      {
        "duration": 60,
        "start_time": "2023-03-02T19:21:37.931Z"
      },
      {
        "duration": 52,
        "start_time": "2023-03-02T19:28:11.183Z"
      },
      {
        "duration": 23,
        "start_time": "2023-03-02T19:28:12.770Z"
      },
      {
        "duration": 54,
        "start_time": "2023-03-02T19:28:35.774Z"
      },
      {
        "duration": 20,
        "start_time": "2023-03-02T19:28:36.970Z"
      },
      {
        "duration": 1490,
        "start_time": "2023-03-02T19:30:20.282Z"
      },
      {
        "duration": 13,
        "start_time": "2023-03-02T19:30:21.775Z"
      },
      {
        "duration": 1489,
        "start_time": "2023-03-02T19:30:30.895Z"
      },
      {
        "duration": 12,
        "start_time": "2023-03-02T19:30:33.087Z"
      },
      {
        "duration": 1432,
        "start_time": "2023-03-02T19:30:39.796Z"
      },
      {
        "duration": 9,
        "start_time": "2023-03-02T19:30:41.730Z"
      },
      {
        "duration": 430,
        "start_time": "2023-03-02T19:33:40.685Z"
      },
      {
        "duration": 12,
        "start_time": "2023-03-02T19:33:41.747Z"
      },
      {
        "duration": 5,
        "start_time": "2023-03-02T19:33:47.179Z"
      },
      {
        "duration": 423,
        "start_time": "2023-03-02T19:33:47.875Z"
      },
      {
        "duration": 388,
        "start_time": "2023-03-02T19:34:02.198Z"
      },
      {
        "duration": 10,
        "start_time": "2023-03-02T19:34:02.970Z"
      },
      {
        "duration": 596,
        "start_time": "2023-03-02T19:35:03.080Z"
      },
      {
        "duration": 397,
        "start_time": "2023-03-02T19:35:17.171Z"
      },
      {
        "duration": 217,
        "start_time": "2023-03-02T19:35:39.871Z"
      },
      {
        "duration": 342,
        "start_time": "2023-03-02T19:37:59.619Z"
      },
      {
        "duration": 456,
        "start_time": "2023-03-02T19:38:07.125Z"
      },
      {
        "duration": 371,
        "start_time": "2023-03-02T19:38:10.936Z"
      },
      {
        "duration": 203,
        "start_time": "2023-03-02T19:44:58.777Z"
      },
      {
        "duration": 1514,
        "start_time": "2023-03-02T19:45:34.113Z"
      },
      {
        "duration": 183,
        "start_time": "2023-03-02T19:45:44.236Z"
      },
      {
        "duration": 13,
        "start_time": "2023-03-02T19:45:53.839Z"
      },
      {
        "duration": 67846,
        "start_time": "2023-03-02T19:49:55.972Z"
      },
      {
        "duration": 16838,
        "start_time": "2023-03-02T19:51:06.578Z"
      },
      {
        "duration": 51,
        "start_time": "2023-03-02T19:51:30.862Z"
      },
      {
        "duration": 96,
        "start_time": "2023-03-02T19:51:34.711Z"
      },
      {
        "duration": 137,
        "start_time": "2023-03-02T19:52:01.677Z"
      },
      {
        "duration": 125,
        "start_time": "2023-03-02T19:52:07.220Z"
      },
      {
        "duration": 124,
        "start_time": "2023-03-02T19:52:10.680Z"
      },
      {
        "duration": 135,
        "start_time": "2023-03-02T19:52:13.476Z"
      },
      {
        "duration": 150,
        "start_time": "2023-03-02T19:55:49.649Z"
      },
      {
        "duration": 141,
        "start_time": "2023-03-02T19:56:45.043Z"
      },
      {
        "duration": 131,
        "start_time": "2023-03-02T19:56:48.919Z"
      },
      {
        "duration": 158,
        "start_time": "2023-03-02T19:56:58.589Z"
      },
      {
        "duration": 90,
        "start_time": "2023-03-02T20:14:58.274Z"
      },
      {
        "duration": 344,
        "start_time": "2023-03-02T20:15:07.736Z"
      },
      {
        "duration": 10,
        "start_time": "2023-03-02T20:15:18.079Z"
      },
      {
        "duration": 26,
        "start_time": "2023-03-02T20:15:31.992Z"
      },
      {
        "duration": 9,
        "start_time": "2023-03-02T20:15:32.972Z"
      },
      {
        "duration": 327,
        "start_time": "2023-03-02T20:15:33.455Z"
      },
      {
        "duration": 11,
        "start_time": "2023-03-02T20:15:37.828Z"
      },
      {
        "duration": 6,
        "start_time": "2023-03-02T20:16:42.841Z"
      },
      {
        "duration": 1406,
        "start_time": "2023-03-02T20:16:43.300Z"
      },
      {
        "duration": 8,
        "start_time": "2023-03-02T20:16:45.183Z"
      },
      {
        "duration": 9,
        "start_time": "2023-03-02T20:17:22.716Z"
      },
      {
        "duration": 13,
        "start_time": "2023-03-02T20:17:26.855Z"
      },
      {
        "duration": 1363,
        "start_time": "2023-03-02T20:17:42.555Z"
      },
      {
        "duration": 9,
        "start_time": "2023-03-02T20:17:47.271Z"
      },
      {
        "duration": 6,
        "start_time": "2023-03-02T20:17:49.743Z"
      },
      {
        "duration": 445,
        "start_time": "2023-03-02T20:17:51.123Z"
      },
      {
        "duration": 6,
        "start_time": "2023-03-02T20:17:52.175Z"
      },
      {
        "duration": 1966,
        "start_time": "2023-03-07T17:18:33.199Z"
      },
      {
        "duration": 222,
        "start_time": "2023-03-07T17:18:35.167Z"
      },
      {
        "duration": 16,
        "start_time": "2023-03-07T17:18:35.390Z"
      },
      {
        "duration": 13,
        "start_time": "2023-03-07T17:18:35.407Z"
      },
      {
        "duration": 54,
        "start_time": "2023-03-07T17:18:35.423Z"
      },
      {
        "duration": 26,
        "start_time": "2023-03-07T17:18:35.479Z"
      },
      {
        "duration": 49,
        "start_time": "2023-03-07T17:18:35.507Z"
      },
      {
        "duration": 7,
        "start_time": "2023-03-07T17:18:35.558Z"
      },
      {
        "duration": 31,
        "start_time": "2023-03-07T17:18:35.567Z"
      },
      {
        "duration": 4,
        "start_time": "2023-03-07T17:18:35.600Z"
      },
      {
        "duration": 46,
        "start_time": "2023-03-07T17:18:35.606Z"
      },
      {
        "duration": 8,
        "start_time": "2023-03-07T17:18:35.655Z"
      },
      {
        "duration": 106,
        "start_time": "2023-03-07T17:18:35.664Z"
      },
      {
        "duration": 8,
        "start_time": "2023-03-07T17:18:35.773Z"
      },
      {
        "duration": 152,
        "start_time": "2023-03-07T17:18:35.782Z"
      },
      {
        "duration": 22,
        "start_time": "2023-03-07T17:18:35.938Z"
      },
      {
        "duration": 425,
        "start_time": "2023-03-07T17:18:35.962Z"
      },
      {
        "duration": 163,
        "start_time": "2023-03-07T17:18:36.389Z"
      },
      {
        "duration": 0,
        "start_time": "2023-03-07T17:18:36.553Z"
      },
      {
        "duration": 0,
        "start_time": "2023-03-07T17:18:36.554Z"
      },
      {
        "duration": 0,
        "start_time": "2023-03-07T17:18:36.556Z"
      },
      {
        "duration": 0,
        "start_time": "2023-03-07T17:18:36.557Z"
      },
      {
        "duration": 0,
        "start_time": "2023-03-07T17:18:36.558Z"
      },
      {
        "duration": 0,
        "start_time": "2023-03-07T17:18:36.560Z"
      },
      {
        "duration": 0,
        "start_time": "2023-03-07T17:18:36.561Z"
      },
      {
        "duration": 0,
        "start_time": "2023-03-07T17:18:36.562Z"
      },
      {
        "duration": 0,
        "start_time": "2023-03-07T17:18:36.563Z"
      },
      {
        "duration": 0,
        "start_time": "2023-03-07T17:18:36.564Z"
      },
      {
        "duration": 0,
        "start_time": "2023-03-07T17:18:36.566Z"
      },
      {
        "duration": 0,
        "start_time": "2023-03-07T17:18:36.567Z"
      },
      {
        "duration": 10,
        "start_time": "2023-03-07T17:19:12.258Z"
      },
      {
        "duration": 620,
        "start_time": "2023-03-07T17:19:14.636Z"
      },
      {
        "duration": 641,
        "start_time": "2023-03-07T17:19:24.577Z"
      },
      {
        "duration": 384,
        "start_time": "2023-03-07T17:19:26.360Z"
      },
      {
        "duration": 11,
        "start_time": "2023-03-07T17:19:35.788Z"
      },
      {
        "duration": 145,
        "start_time": "2023-03-07T17:19:42.174Z"
      },
      {
        "duration": 7,
        "start_time": "2023-03-07T17:19:54.623Z"
      },
      {
        "duration": 126,
        "start_time": "2023-03-07T17:19:56.249Z"
      },
      {
        "duration": 4,
        "start_time": "2023-03-07T17:20:00.707Z"
      },
      {
        "duration": 24,
        "start_time": "2023-03-07T17:20:01.254Z"
      },
      {
        "duration": 26,
        "start_time": "2023-03-07T17:20:15.303Z"
      },
      {
        "duration": 22,
        "start_time": "2023-03-07T17:20:42.882Z"
      },
      {
        "duration": 20,
        "start_time": "2023-03-07T17:21:59.237Z"
      },
      {
        "duration": 1401,
        "start_time": "2023-03-07T17:22:16.363Z"
      },
      {
        "duration": 7,
        "start_time": "2023-03-07T17:22:20.180Z"
      },
      {
        "duration": 5,
        "start_time": "2023-03-07T17:22:24.053Z"
      },
      {
        "duration": 428,
        "start_time": "2023-03-07T17:22:36.880Z"
      },
      {
        "duration": 18,
        "start_time": "2023-03-07T17:22:39.247Z"
      },
      {
        "duration": 227,
        "start_time": "2023-03-07T17:22:54.942Z"
      },
      {
        "duration": 25,
        "start_time": "2023-03-07T17:23:18.817Z"
      },
      {
        "duration": 48,
        "start_time": "2023-03-08T09:08:35.716Z"
      },
      {
        "duration": 1603,
        "start_time": "2023-03-08T09:12:09.705Z"
      },
      {
        "duration": 93,
        "start_time": "2023-03-08T09:12:11.768Z"
      },
      {
        "duration": 12,
        "start_time": "2023-03-08T09:12:11.863Z"
      },
      {
        "duration": 4,
        "start_time": "2023-03-08T09:12:12.410Z"
      },
      {
        "duration": 11,
        "start_time": "2023-03-08T09:12:13.882Z"
      },
      {
        "duration": 10,
        "start_time": "2023-03-08T09:12:14.315Z"
      },
      {
        "duration": 22,
        "start_time": "2023-03-08T09:12:15.108Z"
      },
      {
        "duration": 6,
        "start_time": "2023-03-08T09:12:15.875Z"
      },
      {
        "duration": 13,
        "start_time": "2023-03-08T09:12:16.833Z"
      },
      {
        "duration": 4,
        "start_time": "2023-03-08T09:12:17.243Z"
      },
      {
        "duration": 4,
        "start_time": "2023-03-08T09:12:17.671Z"
      },
      {
        "duration": 5,
        "start_time": "2023-03-08T09:12:19.131Z"
      },
      {
        "duration": 52,
        "start_time": "2023-03-08T09:12:20.640Z"
      },
      {
        "duration": 6,
        "start_time": "2023-03-08T09:12:22.024Z"
      },
      {
        "duration": 204,
        "start_time": "2023-03-08T09:12:23.380Z"
      },
      {
        "duration": 4,
        "start_time": "2023-03-08T09:12:53.780Z"
      },
      {
        "duration": 22,
        "start_time": "2023-03-08T09:12:57.560Z"
      },
      {
        "duration": 4,
        "start_time": "2023-03-08T09:26:22.381Z"
      },
      {
        "duration": 10,
        "start_time": "2023-03-08T09:51:29.330Z"
      },
      {
        "duration": 3,
        "start_time": "2023-03-08T09:52:42.444Z"
      },
      {
        "duration": 11,
        "start_time": "2023-03-08T09:52:43.275Z"
      },
      {
        "duration": 92796,
        "start_time": "2023-03-08T09:52:57.452Z"
      },
      {
        "duration": 26491,
        "start_time": "2023-03-08T09:59:15.343Z"
      },
      {
        "duration": 48669,
        "start_time": "2023-03-08T10:02:18.269Z"
      },
      {
        "duration": 120,
        "start_time": "2023-03-08T10:03:44.014Z"
      },
      {
        "duration": 22,
        "start_time": "2023-03-08T10:06:23.458Z"
      },
      {
        "duration": 13,
        "start_time": "2023-03-08T10:06:35.021Z"
      },
      {
        "duration": 51557,
        "start_time": "2023-03-08T10:18:46.724Z"
      },
      {
        "duration": 1247,
        "start_time": "2023-03-08T10:22:31.762Z"
      },
      {
        "duration": 15,
        "start_time": "2023-03-08T10:22:45.763Z"
      },
      {
        "duration": 27,
        "start_time": "2023-03-08T10:22:54.463Z"
      },
      {
        "duration": 5,
        "start_time": "2023-03-08T10:22:55.258Z"
      },
      {
        "duration": 312,
        "start_time": "2023-03-08T10:22:55.954Z"
      },
      {
        "duration": 10,
        "start_time": "2023-03-08T10:22:57.450Z"
      },
      {
        "duration": 50676,
        "start_time": "2023-03-08T10:22:59.358Z"
      },
      {
        "duration": 1266,
        "start_time": "2023-03-08T10:23:56.727Z"
      },
      {
        "duration": 318,
        "start_time": "2023-03-08T10:23:59.468Z"
      },
      {
        "duration": 10,
        "start_time": "2023-03-08T10:24:58.199Z"
      },
      {
        "duration": 1243,
        "start_time": "2023-03-08T10:26:36.564Z"
      },
      {
        "duration": 356,
        "start_time": "2023-03-08T10:26:39.798Z"
      },
      {
        "duration": 10,
        "start_time": "2023-03-08T10:26:43.038Z"
      },
      {
        "duration": 11,
        "start_time": "2023-03-08T10:43:27.428Z"
      },
      {
        "duration": 10,
        "start_time": "2023-03-08T10:43:32.565Z"
      },
      {
        "duration": 176,
        "start_time": "2023-03-08T10:43:39.387Z"
      },
      {
        "duration": 243,
        "start_time": "2023-03-08T10:44:03.150Z"
      },
      {
        "duration": 276,
        "start_time": "2023-03-08T10:44:10.220Z"
      },
      {
        "duration": 238,
        "start_time": "2023-03-08T10:45:52.538Z"
      },
      {
        "duration": 193,
        "start_time": "2023-03-08T10:46:00.186Z"
      },
      {
        "duration": 186,
        "start_time": "2023-03-08T10:46:03.791Z"
      },
      {
        "duration": 173,
        "start_time": "2023-03-08T10:46:10.106Z"
      },
      {
        "duration": 235,
        "start_time": "2023-03-08T10:46:20.530Z"
      },
      {
        "duration": 93,
        "start_time": "2023-03-08T10:47:47.242Z"
      },
      {
        "duration": 213,
        "start_time": "2023-03-08T10:48:27.284Z"
      },
      {
        "duration": 344,
        "start_time": "2023-03-08T10:49:17.638Z"
      },
      {
        "duration": 28,
        "start_time": "2023-03-08T11:02:09.922Z"
      },
      {
        "duration": 12,
        "start_time": "2023-03-08T11:02:15.405Z"
      },
      {
        "duration": 283,
        "start_time": "2023-03-08T11:02:22.107Z"
      },
      {
        "duration": 6,
        "start_time": "2023-03-08T11:03:26.350Z"
      },
      {
        "duration": 290,
        "start_time": "2023-03-08T11:03:29.018Z"
      },
      {
        "duration": 70,
        "start_time": "2023-03-08T11:03:48.846Z"
      },
      {
        "duration": 23,
        "start_time": "2023-03-08T11:03:51.737Z"
      },
      {
        "duration": 6,
        "start_time": "2023-03-08T11:03:54.269Z"
      },
      {
        "duration": 335,
        "start_time": "2023-03-08T11:03:54.810Z"
      },
      {
        "duration": 11,
        "start_time": "2023-03-08T11:03:57.962Z"
      },
      {
        "duration": 289,
        "start_time": "2023-03-08T11:04:02.311Z"
      },
      {
        "duration": 51466,
        "start_time": "2023-03-08T11:04:05.549Z"
      },
      {
        "duration": 97,
        "start_time": "2023-03-08T11:07:11.237Z"
      },
      {
        "duration": 27,
        "start_time": "2023-03-08T11:09:14.645Z"
      },
      {
        "duration": 332,
        "start_time": "2023-03-08T11:09:41.210Z"
      },
      {
        "duration": 125,
        "start_time": "2023-03-08T11:13:52.189Z"
      },
      {
        "duration": 17,
        "start_time": "2023-03-08T11:14:40.814Z"
      },
      {
        "duration": 5,
        "start_time": "2023-03-08T11:15:10.046Z"
      },
      {
        "duration": 270,
        "start_time": "2023-03-08T11:15:19.950Z"
      },
      {
        "duration": 274,
        "start_time": "2023-03-08T11:15:33.090Z"
      },
      {
        "duration": 26,
        "start_time": "2023-03-08T11:15:38.566Z"
      },
      {
        "duration": 335,
        "start_time": "2023-03-08T11:15:39.657Z"
      },
      {
        "duration": 120,
        "start_time": "2023-03-08T11:15:50.453Z"
      },
      {
        "duration": 49306,
        "start_time": "2023-03-08T11:31:05.798Z"
      },
      {
        "duration": 1073,
        "start_time": "2023-03-08T11:34:35.215Z"
      },
      {
        "duration": 1032,
        "start_time": "2023-03-08T11:34:47.839Z"
      },
      {
        "duration": 23,
        "start_time": "2023-03-08T11:36:02.070Z"
      },
      {
        "duration": 300,
        "start_time": "2023-03-08T11:36:20.038Z"
      },
      {
        "duration": 296,
        "start_time": "2023-03-08T11:37:53.062Z"
      },
      {
        "duration": 340,
        "start_time": "2023-03-08T11:38:17.196Z"
      },
      {
        "duration": 996,
        "start_time": "2023-03-08T11:38:51.863Z"
      },
      {
        "duration": 10,
        "start_time": "2023-03-08T11:40:23.231Z"
      },
      {
        "duration": 63,
        "start_time": "2023-03-08T11:40:37.720Z"
      },
      {
        "duration": 259,
        "start_time": "2023-03-08T11:41:31.209Z"
      },
      {
        "duration": 293,
        "start_time": "2023-03-08T11:44:11.686Z"
      },
      {
        "duration": 23,
        "start_time": "2023-03-08T11:44:20.202Z"
      },
      {
        "duration": 321,
        "start_time": "2023-03-08T11:44:21.561Z"
      },
      {
        "duration": 253,
        "start_time": "2023-03-08T11:45:45.650Z"
      },
      {
        "duration": 3,
        "start_time": "2023-03-08T11:47:06.173Z"
      },
      {
        "duration": 14,
        "start_time": "2023-03-08T11:48:25.837Z"
      },
      {
        "duration": 1540,
        "start_time": "2023-03-08T11:48:29.910Z"
      },
      {
        "duration": 10,
        "start_time": "2023-03-08T11:48:32.003Z"
      },
      {
        "duration": 4,
        "start_time": "2023-03-08T11:48:52.395Z"
      },
      {
        "duration": 497,
        "start_time": "2023-03-08T11:48:54.215Z"
      },
      {
        "duration": 12,
        "start_time": "2023-03-08T11:48:55.679Z"
      },
      {
        "duration": 163,
        "start_time": "2023-03-08T11:57:56.755Z"
      },
      {
        "duration": 161,
        "start_time": "2023-03-08T11:58:11.006Z"
      },
      {
        "duration": 156,
        "start_time": "2023-03-08T11:58:25.173Z"
      },
      {
        "duration": 181,
        "start_time": "2023-03-08T11:58:34.262Z"
      },
      {
        "duration": 263,
        "start_time": "2023-03-08T12:04:49.250Z"
      },
      {
        "duration": 64,
        "start_time": "2023-03-08T12:11:51.411Z"
      },
      {
        "duration": 64,
        "start_time": "2023-03-08T12:12:24.626Z"
      },
      {
        "duration": 70,
        "start_time": "2023-03-08T12:12:35.679Z"
      },
      {
        "duration": 13,
        "start_time": "2023-03-08T12:14:34.783Z"
      },
      {
        "duration": 3,
        "start_time": "2023-03-08T12:19:20.583Z"
      },
      {
        "duration": 6,
        "start_time": "2023-03-08T12:19:21.196Z"
      },
      {
        "duration": 6,
        "start_time": "2023-03-08T12:19:33.233Z"
      },
      {
        "duration": 7,
        "start_time": "2023-03-08T12:19:40.285Z"
      },
      {
        "duration": 7,
        "start_time": "2023-03-08T12:19:42.838Z"
      },
      {
        "duration": 4,
        "start_time": "2023-03-08T12:30:00.052Z"
      },
      {
        "duration": 9,
        "start_time": "2023-03-08T12:30:09.420Z"
      },
      {
        "duration": 4,
        "start_time": "2023-03-08T12:31:22.225Z"
      },
      {
        "duration": 30,
        "start_time": "2023-03-08T12:31:22.909Z"
      },
      {
        "duration": 9,
        "start_time": "2023-03-08T12:35:08.302Z"
      },
      {
        "duration": 16,
        "start_time": "2023-03-08T12:35:14.978Z"
      },
      {
        "duration": 73,
        "start_time": "2023-03-08T12:37:51.227Z"
      },
      {
        "duration": 14,
        "start_time": "2023-03-08T12:38:09.447Z"
      },
      {
        "duration": 266,
        "start_time": "2023-03-08T13:05:00.557Z"
      },
      {
        "duration": 302,
        "start_time": "2023-03-08T13:05:26.448Z"
      },
      {
        "duration": 281,
        "start_time": "2023-03-08T13:05:35.404Z"
      },
      {
        "duration": 12,
        "start_time": "2023-03-08T13:12:31.564Z"
      },
      {
        "duration": 4,
        "start_time": "2023-03-08T13:13:18.455Z"
      },
      {
        "duration": 174,
        "start_time": "2023-03-08T13:13:32.214Z"
      },
      {
        "duration": 225,
        "start_time": "2023-03-08T13:13:56.223Z"
      },
      {
        "duration": 213,
        "start_time": "2023-03-08T13:13:59.148Z"
      },
      {
        "duration": 188,
        "start_time": "2023-03-08T13:14:02.040Z"
      },
      {
        "duration": 250,
        "start_time": "2023-03-08T13:14:06.478Z"
      },
      {
        "duration": 5,
        "start_time": "2023-03-08T13:25:24.888Z"
      },
      {
        "duration": 55,
        "start_time": "2023-03-08T13:25:24.895Z"
      },
      {
        "duration": 11,
        "start_time": "2023-03-08T13:25:24.952Z"
      },
      {
        "duration": 5,
        "start_time": "2023-03-08T13:25:24.965Z"
      },
      {
        "duration": 9,
        "start_time": "2023-03-08T13:25:24.972Z"
      },
      {
        "duration": 10,
        "start_time": "2023-03-08T13:25:24.982Z"
      },
      {
        "duration": 40,
        "start_time": "2023-03-08T13:25:24.993Z"
      },
      {
        "duration": 15,
        "start_time": "2023-03-08T13:25:25.034Z"
      },
      {
        "duration": 16,
        "start_time": "2023-03-08T13:25:25.051Z"
      },
      {
        "duration": 3,
        "start_time": "2023-03-08T13:25:25.069Z"
      },
      {
        "duration": 5,
        "start_time": "2023-03-08T13:25:25.073Z"
      },
      {
        "duration": 5,
        "start_time": "2023-03-08T13:25:25.080Z"
      },
      {
        "duration": 82,
        "start_time": "2023-03-08T13:25:25.086Z"
      },
      {
        "duration": 8,
        "start_time": "2023-03-08T13:25:25.172Z"
      },
      {
        "duration": 62,
        "start_time": "2023-03-08T13:25:25.181Z"
      },
      {
        "duration": 7,
        "start_time": "2023-03-08T13:25:25.245Z"
      },
      {
        "duration": 448,
        "start_time": "2023-03-08T13:25:25.254Z"
      },
      {
        "duration": 12,
        "start_time": "2023-03-08T13:25:25.704Z"
      },
      {
        "duration": 376,
        "start_time": "2023-03-08T13:25:25.717Z"
      },
      {
        "duration": 53427,
        "start_time": "2023-03-08T13:25:26.095Z"
      },
      {
        "duration": 1260,
        "start_time": "2023-03-08T13:26:19.523Z"
      },
      {
        "duration": 366,
        "start_time": "2023-03-08T13:26:20.785Z"
      },
      {
        "duration": 10,
        "start_time": "2023-03-08T13:26:21.153Z"
      },
      {
        "duration": 137,
        "start_time": "2023-03-08T13:26:21.164Z"
      },
      {
        "duration": 46,
        "start_time": "2023-03-08T13:26:21.302Z"
      },
      {
        "duration": 338,
        "start_time": "2023-03-08T13:26:21.351Z"
      },
      {
        "duration": 331,
        "start_time": "2023-03-08T13:26:21.691Z"
      },
      {
        "duration": 52267,
        "start_time": "2023-03-08T13:26:22.023Z"
      },
      {
        "duration": 1071,
        "start_time": "2023-03-08T13:27:14.292Z"
      },
      {
        "duration": 303,
        "start_time": "2023-03-08T13:27:15.364Z"
      },
      {
        "duration": 4,
        "start_time": "2023-03-08T13:27:15.669Z"
      },
      {
        "duration": 1668,
        "start_time": "2023-03-08T13:27:15.674Z"
      },
      {
        "duration": 13,
        "start_time": "2023-03-08T13:27:17.343Z"
      },
      {
        "duration": 4,
        "start_time": "2023-03-08T13:27:17.357Z"
      },
      {
        "duration": 464,
        "start_time": "2023-03-08T13:27:17.362Z"
      },
      {
        "duration": 27,
        "start_time": "2023-03-08T13:27:17.827Z"
      },
      {
        "duration": 296,
        "start_time": "2023-03-08T13:27:17.856Z"
      },
      {
        "duration": 4,
        "start_time": "2023-03-08T13:27:18.154Z"
      },
      {
        "duration": 193,
        "start_time": "2023-03-08T13:27:18.160Z"
      },
      {
        "duration": 6,
        "start_time": "2023-03-08T13:27:18.357Z"
      },
      {
        "duration": 1567,
        "start_time": "2023-03-08T13:27:57.477Z"
      },
      {
        "duration": 335,
        "start_time": "2023-03-08T13:27:59.046Z"
      },
      {
        "duration": 12,
        "start_time": "2023-03-08T13:27:59.895Z"
      },
      {
        "duration": 128,
        "start_time": "2023-03-08T13:28:00.834Z"
      },
      {
        "duration": 38,
        "start_time": "2023-03-08T13:28:01.403Z"
      },
      {
        "duration": 359,
        "start_time": "2023-03-08T13:28:01.534Z"
      },
      {
        "duration": 351,
        "start_time": "2023-03-08T13:28:01.895Z"
      },
      {
        "duration": 54869,
        "start_time": "2023-03-08T13:28:02.247Z"
      },
      {
        "duration": 1169,
        "start_time": "2023-03-08T13:28:57.119Z"
      },
      {
        "duration": 327,
        "start_time": "2023-03-08T13:28:58.291Z"
      },
      {
        "duration": 4,
        "start_time": "2023-03-08T13:28:58.619Z"
      },
      {
        "duration": 1693,
        "start_time": "2023-03-08T13:28:58.632Z"
      },
      {
        "duration": 20,
        "start_time": "2023-03-08T13:29:00.326Z"
      },
      {
        "duration": 25,
        "start_time": "2023-03-08T13:29:00.348Z"
      },
      {
        "duration": 574,
        "start_time": "2023-03-08T13:29:00.375Z"
      },
      {
        "duration": 11,
        "start_time": "2023-03-08T13:29:00.951Z"
      },
      {
        "duration": 310,
        "start_time": "2023-03-08T13:29:00.964Z"
      },
      {
        "duration": 5,
        "start_time": "2023-03-08T13:29:01.276Z"
      },
      {
        "duration": 211,
        "start_time": "2023-03-08T13:29:01.283Z"
      },
      {
        "duration": 3288,
        "start_time": "2023-03-09T09:01:06.302Z"
      },
      {
        "duration": 1722,
        "start_time": "2023-03-11T12:07:42.638Z"
      },
      {
        "duration": 102,
        "start_time": "2023-03-11T12:07:45.840Z"
      },
      {
        "duration": 18,
        "start_time": "2023-03-11T12:07:46.464Z"
      },
      {
        "duration": 6,
        "start_time": "2023-03-11T12:07:48.440Z"
      },
      {
        "duration": 17,
        "start_time": "2023-03-11T12:09:15.541Z"
      },
      {
        "duration": 15,
        "start_time": "2023-03-11T12:09:16.498Z"
      },
      {
        "duration": 10,
        "start_time": "2023-03-11T12:09:25.795Z"
      },
      {
        "duration": 19,
        "start_time": "2023-03-11T12:09:28.772Z"
      },
      {
        "duration": 5,
        "start_time": "2023-03-11T12:09:31.645Z"
      },
      {
        "duration": 5,
        "start_time": "2023-03-11T12:09:32.948Z"
      },
      {
        "duration": 139,
        "start_time": "2023-03-11T12:12:56.899Z"
      },
      {
        "duration": 58,
        "start_time": "2023-03-11T12:13:01.557Z"
      },
      {
        "duration": 16,
        "start_time": "2023-03-11T12:13:02.681Z"
      },
      {
        "duration": 7,
        "start_time": "2023-03-11T12:13:03.192Z"
      },
      {
        "duration": 19,
        "start_time": "2023-03-11T12:13:12.572Z"
      },
      {
        "duration": 62,
        "start_time": "2023-03-11T12:13:23.949Z"
      },
      {
        "duration": 6,
        "start_time": "2023-03-11T12:13:56.012Z"
      },
      {
        "duration": 72,
        "start_time": "2023-03-11T12:16:23.698Z"
      },
      {
        "duration": 18,
        "start_time": "2023-03-11T12:25:23.700Z"
      },
      {
        "duration": 15,
        "start_time": "2023-03-11T12:25:46.163Z"
      },
      {
        "duration": 75,
        "start_time": "2023-03-11T12:26:04.701Z"
      },
      {
        "duration": 16634,
        "start_time": "2023-03-11T12:26:09.668Z"
      },
      {
        "duration": 727,
        "start_time": "2023-03-11T12:26:59.173Z"
      },
      {
        "duration": 227,
        "start_time": "2023-03-11T12:27:11.447Z"
      },
      {
        "duration": 15722,
        "start_time": "2023-03-11T12:27:39.659Z"
      },
      {
        "duration": 102,
        "start_time": "2023-03-11T12:29:51.748Z"
      },
      {
        "duration": 54,
        "start_time": "2023-03-11T12:29:58.120Z"
      },
      {
        "duration": 19,
        "start_time": "2023-03-11T12:30:02.868Z"
      },
      {
        "duration": 5,
        "start_time": "2023-03-11T12:30:03.574Z"
      },
      {
        "duration": 9,
        "start_time": "2023-03-11T12:30:08.551Z"
      },
      {
        "duration": 14,
        "start_time": "2023-03-11T12:30:09.478Z"
      },
      {
        "duration": 10,
        "start_time": "2023-03-11T12:30:11.307Z"
      },
      {
        "duration": 15,
        "start_time": "2023-03-11T12:30:13.829Z"
      },
      {
        "duration": 4,
        "start_time": "2023-03-11T12:30:14.324Z"
      },
      {
        "duration": 5,
        "start_time": "2023-03-11T12:30:15.249Z"
      },
      {
        "duration": 6,
        "start_time": "2023-03-11T12:30:20.621Z"
      },
      {
        "duration": 72,
        "start_time": "2023-03-11T12:30:22.570Z"
      },
      {
        "duration": 8,
        "start_time": "2023-03-11T12:30:24.369Z"
      },
      {
        "duration": 44,
        "start_time": "2023-03-11T12:30:26.981Z"
      },
      {
        "duration": 54,
        "start_time": "2023-03-11T12:30:28.810Z"
      },
      {
        "duration": 8,
        "start_time": "2023-03-11T12:30:30.781Z"
      },
      {
        "duration": 390,
        "start_time": "2023-03-11T12:30:36.259Z"
      },
      {
        "duration": 188,
        "start_time": "2023-03-11T12:38:03.779Z"
      },
      {
        "duration": 26,
        "start_time": "2023-03-11T12:38:13.659Z"
      },
      {
        "duration": 19,
        "start_time": "2023-03-11T12:38:22.578Z"
      },
      {
        "duration": 340,
        "start_time": "2023-03-11T12:39:23.034Z"
      },
      {
        "duration": 8,
        "start_time": "2023-03-11T12:40:00.603Z"
      },
      {
        "duration": 41,
        "start_time": "2023-03-11T12:40:01.667Z"
      },
      {
        "duration": 105,
        "start_time": "2023-03-11T12:40:02.570Z"
      },
      {
        "duration": 10,
        "start_time": "2023-03-11T12:40:04.615Z"
      },
      {
        "duration": 406,
        "start_time": "2023-03-11T12:40:05.699Z"
      },
      {
        "duration": 15,
        "start_time": "2023-03-11T12:40:07.191Z"
      },
      {
        "duration": 394,
        "start_time": "2023-03-11T12:40:10.271Z"
      },
      {
        "duration": 429,
        "start_time": "2023-03-11T12:40:59.638Z"
      },
      {
        "duration": 361,
        "start_time": "2023-03-11T12:43:07.482Z"
      },
      {
        "duration": 340,
        "start_time": "2023-03-11T12:51:45.093Z"
      },
      {
        "duration": 380,
        "start_time": "2023-03-11T12:51:50.794Z"
      },
      {
        "duration": 378,
        "start_time": "2023-03-11T12:52:02.022Z"
      },
      {
        "duration": 364,
        "start_time": "2023-03-11T12:52:29.535Z"
      },
      {
        "duration": 314,
        "start_time": "2023-03-11T12:53:35.226Z"
      },
      {
        "duration": 151,
        "start_time": "2023-03-11T12:56:29.615Z"
      },
      {
        "duration": 376,
        "start_time": "2023-03-11T12:56:33.588Z"
      },
      {
        "duration": 357,
        "start_time": "2023-03-11T12:56:44.532Z"
      },
      {
        "duration": 379,
        "start_time": "2023-03-11T12:57:06.935Z"
      },
      {
        "duration": 345,
        "start_time": "2023-03-11T12:57:33.833Z"
      },
      {
        "duration": 427,
        "start_time": "2023-03-11T12:58:26.438Z"
      },
      {
        "duration": 14,
        "start_time": "2023-03-11T12:59:30.533Z"
      },
      {
        "duration": 72691,
        "start_time": "2023-03-11T12:59:34.598Z"
      },
      {
        "duration": 1648,
        "start_time": "2023-03-11T13:05:56.139Z"
      },
      {
        "duration": 396,
        "start_time": "2023-03-11T13:06:00.302Z"
      },
      {
        "duration": 17,
        "start_time": "2023-03-11T13:06:01.469Z"
      },
      {
        "duration": 347,
        "start_time": "2023-03-11T13:07:38.118Z"
      },
      {
        "duration": 147,
        "start_time": "2023-03-11T13:08:37.659Z"
      },
      {
        "duration": 23,
        "start_time": "2023-03-11T13:09:12.010Z"
      },
      {
        "duration": 365,
        "start_time": "2023-03-11T13:09:19.281Z"
      },
      {
        "duration": 344,
        "start_time": "2023-03-11T13:09:28.833Z"
      },
      {
        "duration": 70668,
        "start_time": "2023-03-11T13:09:32.871Z"
      },
      {
        "duration": 1594,
        "start_time": "2023-03-11T13:10:43.541Z"
      },
      {
        "duration": 329,
        "start_time": "2023-03-11T13:13:57.223Z"
      },
      {
        "duration": 5,
        "start_time": "2023-03-11T13:14:47.198Z"
      },
      {
        "duration": 5,
        "start_time": "2023-03-11T15:54:54.322Z"
      },
      {
        "duration": 1979,
        "start_time": "2023-03-11T15:54:54.961Z"
      },
      {
        "duration": 12,
        "start_time": "2023-03-11T15:54:59.322Z"
      },
      {
        "duration": 2302,
        "start_time": "2023-03-11T15:55:10.075Z"
      },
      {
        "duration": 14,
        "start_time": "2023-03-11T15:55:13.313Z"
      },
      {
        "duration": 1488,
        "start_time": "2023-03-11T15:55:18.101Z"
      },
      {
        "duration": 12,
        "start_time": "2023-03-11T15:55:21.321Z"
      },
      {
        "duration": 13671,
        "start_time": "2023-03-11T16:05:04.818Z"
      },
      {
        "duration": 14279,
        "start_time": "2023-03-11T16:05:35.626Z"
      },
      {
        "duration": 13754,
        "start_time": "2023-03-11T16:09:52.099Z"
      },
      {
        "duration": 13586,
        "start_time": "2023-03-11T16:10:18.291Z"
      },
      {
        "duration": 13671,
        "start_time": "2023-03-11T16:10:43.369Z"
      },
      {
        "duration": 14091,
        "start_time": "2023-03-11T16:11:21.746Z"
      },
      {
        "duration": 15,
        "start_time": "2023-03-11T16:20:43.220Z"
      },
      {
        "duration": 25,
        "start_time": "2023-03-11T16:20:52.656Z"
      },
      {
        "duration": 17,
        "start_time": "2023-03-11T16:23:21.988Z"
      },
      {
        "duration": 4,
        "start_time": "2023-03-11T16:23:28.541Z"
      },
      {
        "duration": 805,
        "start_time": "2023-03-11T16:23:30.082Z"
      },
      {
        "duration": 836,
        "start_time": "2023-03-11T16:24:36.752Z"
      },
      {
        "duration": 4070,
        "start_time": "2023-03-11T16:24:43.223Z"
      },
      {
        "duration": 4050,
        "start_time": "2023-03-11T16:25:20.224Z"
      },
      {
        "duration": 3999,
        "start_time": "2023-03-11T16:25:40.606Z"
      },
      {
        "duration": 3787,
        "start_time": "2023-03-11T16:26:22.993Z"
      },
      {
        "duration": 3803,
        "start_time": "2023-03-11T16:26:35.202Z"
      },
      {
        "duration": 3954,
        "start_time": "2023-03-11T16:32:32.481Z"
      },
      {
        "duration": 72,
        "start_time": "2023-03-11T16:33:57.264Z"
      },
      {
        "duration": 7503,
        "start_time": "2023-03-11T16:34:14.145Z"
      },
      {
        "duration": 72,
        "start_time": "2023-03-11T16:34:37.381Z"
      },
      {
        "duration": 343,
        "start_time": "2023-03-11T16:37:06.372Z"
      },
      {
        "duration": 587,
        "start_time": "2023-03-12T09:49:29.563Z"
      },
      {
        "duration": 16145,
        "start_time": "2023-03-12T09:49:34.369Z"
      },
      {
        "duration": 2084,
        "start_time": "2023-03-12T09:49:50.517Z"
      },
      {
        "duration": 114,
        "start_time": "2023-03-12T09:49:52.603Z"
      },
      {
        "duration": 19082,
        "start_time": "2023-03-12T09:49:52.719Z"
      },
      {
        "duration": 18,
        "start_time": "2023-03-12T09:50:44.496Z"
      },
      {
        "duration": 5,
        "start_time": "2023-03-12T09:50:45.124Z"
      },
      {
        "duration": 10,
        "start_time": "2023-03-12T09:50:50.955Z"
      },
      {
        "duration": 11,
        "start_time": "2023-03-12T09:50:51.774Z"
      },
      {
        "duration": 9,
        "start_time": "2023-03-12T09:50:56.198Z"
      },
      {
        "duration": 15,
        "start_time": "2023-03-12T09:50:57.191Z"
      },
      {
        "duration": 3,
        "start_time": "2023-03-12T09:50:58.712Z"
      },
      {
        "duration": 5,
        "start_time": "2023-03-12T09:50:59.340Z"
      },
      {
        "duration": 7,
        "start_time": "2023-03-12T09:51:23.270Z"
      },
      {
        "duration": 65,
        "start_time": "2023-03-12T09:51:25.591Z"
      },
      {
        "duration": 8,
        "start_time": "2023-03-12T09:51:29.153Z"
      },
      {
        "duration": 31,
        "start_time": "2023-03-12T09:51:32.244Z"
      },
      {
        "duration": 23,
        "start_time": "2023-03-12T09:51:33.192Z"
      },
      {
        "duration": 7,
        "start_time": "2023-03-12T09:51:34.888Z"
      },
      {
        "duration": 354,
        "start_time": "2023-03-12T09:51:36.923Z"
      },
      {
        "duration": 13,
        "start_time": "2023-03-12T09:51:40.287Z"
      },
      {
        "duration": 7,
        "start_time": "2023-03-12T09:57:15.476Z"
      },
      {
        "duration": 65,
        "start_time": "2023-03-12T09:57:16.436Z"
      },
      {
        "duration": 8,
        "start_time": "2023-03-12T09:57:17.491Z"
      },
      {
        "duration": 34,
        "start_time": "2023-03-12T09:57:18.387Z"
      },
      {
        "duration": 66,
        "start_time": "2023-03-12T09:57:19.599Z"
      },
      {
        "duration": 6,
        "start_time": "2023-03-12T09:57:22.071Z"
      },
      {
        "duration": 336,
        "start_time": "2023-03-12T09:57:22.646Z"
      },
      {
        "duration": 14,
        "start_time": "2023-03-12T09:57:27.543Z"
      },
      {
        "duration": 268,
        "start_time": "2023-03-12T09:58:22.007Z"
      },
      {
        "duration": 314,
        "start_time": "2023-03-12T09:58:27.632Z"
      },
      {
        "duration": 298,
        "start_time": "2023-03-12T09:58:51.392Z"
      },
      {
        "duration": 64334,
        "start_time": "2023-03-12T10:02:02.320Z"
      },
      {
        "duration": 1486,
        "start_time": "2023-03-12T10:03:53.423Z"
      },
      {
        "duration": 364,
        "start_time": "2023-03-12T10:03:55.815Z"
      },
      {
        "duration": 13,
        "start_time": "2023-03-12T10:04:00.786Z"
      },
      {
        "duration": 123,
        "start_time": "2023-03-12T10:04:22.006Z"
      },
      {
        "duration": 41,
        "start_time": "2023-03-12T10:06:05.030Z"
      },
      {
        "duration": 327,
        "start_time": "2023-03-12T10:06:41.340Z"
      },
      {
        "duration": 383,
        "start_time": "2023-03-12T10:06:44.995Z"
      },
      {
        "duration": 63558,
        "start_time": "2023-03-12T10:06:52.858Z"
      },
      {
        "duration": 1406,
        "start_time": "2023-03-12T10:07:56.418Z"
      },
      {
        "duration": 247,
        "start_time": "2023-03-12T10:08:07.491Z"
      },
      {
        "duration": 4,
        "start_time": "2023-03-12T10:11:41.603Z"
      },
      {
        "duration": 13872,
        "start_time": "2023-03-12T10:13:26.146Z"
      },
      {
        "duration": 16091,
        "start_time": "2023-03-12T10:15:06.149Z"
      },
      {
        "duration": 15833,
        "start_time": "2023-03-12T10:22:25.543Z"
      },
      {
        "duration": 16418,
        "start_time": "2023-03-12T10:25:30.824Z"
      },
      {
        "duration": 4,
        "start_time": "2023-03-12T10:27:37.858Z"
      },
      {
        "duration": 531,
        "start_time": "2023-03-12T10:27:39.829Z"
      },
      {
        "duration": 9094,
        "start_time": "2023-03-12T10:27:41.530Z"
      },
      {
        "duration": 244,
        "start_time": "2023-03-12T10:29:12.002Z"
      },
      {
        "duration": 8,
        "start_time": "2023-03-12T10:29:14.440Z"
      },
      {
        "duration": 6,
        "start_time": "2023-03-12T10:29:38.206Z"
      },
      {
        "duration": 5,
        "start_time": "2023-03-12T10:29:46.526Z"
      },
      {
        "duration": 240,
        "start_time": "2023-03-12T10:30:50.671Z"
      },
      {
        "duration": 49,
        "start_time": "2023-03-12T11:57:50.802Z"
      },
      {
        "duration": 3,
        "start_time": "2023-03-12T11:57:56.038Z"
      },
      {
        "duration": 8,
        "start_time": "2023-03-12T11:57:57.733Z"
      },
      {
        "duration": 13370,
        "start_time": "2023-03-12T11:58:09.996Z"
      },
      {
        "duration": 2251,
        "start_time": "2023-03-12T11:58:23.368Z"
      },
      {
        "duration": 176,
        "start_time": "2023-03-12T11:58:25.621Z"
      },
      {
        "duration": 15360,
        "start_time": "2023-03-12T11:58:27.626Z"
      },
      {
        "duration": 12,
        "start_time": "2023-03-12T11:58:48.060Z"
      },
      {
        "duration": 5,
        "start_time": "2023-03-12T11:58:48.548Z"
      },
      {
        "duration": 10,
        "start_time": "2023-03-12T11:58:50.887Z"
      },
      {
        "duration": 10,
        "start_time": "2023-03-12T11:58:51.650Z"
      },
      {
        "duration": 8,
        "start_time": "2023-03-12T11:58:53.146Z"
      },
      {
        "duration": 14,
        "start_time": "2023-03-12T11:58:53.856Z"
      },
      {
        "duration": 4,
        "start_time": "2023-03-12T11:58:54.136Z"
      },
      {
        "duration": 5,
        "start_time": "2023-03-12T11:58:54.738Z"
      },
      {
        "duration": 8,
        "start_time": "2023-03-12T11:58:57.758Z"
      },
      {
        "duration": 65,
        "start_time": "2023-03-12T11:58:59.033Z"
      },
      {
        "duration": 9,
        "start_time": "2023-03-12T11:58:59.764Z"
      },
      {
        "duration": 165,
        "start_time": "2023-03-12T11:59:00.345Z"
      },
      {
        "duration": 33,
        "start_time": "2023-03-12T11:59:01.504Z"
      },
      {
        "duration": 5,
        "start_time": "2023-03-12T11:59:02.252Z"
      },
      {
        "duration": 301,
        "start_time": "2023-03-12T11:59:02.672Z"
      },
      {
        "duration": 11,
        "start_time": "2023-03-12T11:59:03.777Z"
      },
      {
        "duration": 263,
        "start_time": "2023-03-12T11:59:05.996Z"
      },
      {
        "duration": 49407,
        "start_time": "2023-03-12T11:59:08.552Z"
      },
      {
        "duration": 827,
        "start_time": "2023-03-12T11:59:57.961Z"
      },
      {
        "duration": 328,
        "start_time": "2023-03-12T11:59:58.789Z"
      },
      {
        "duration": 12,
        "start_time": "2023-03-12T12:00:07.466Z"
      },
      {
        "duration": 129,
        "start_time": "2023-03-12T12:00:18.660Z"
      },
      {
        "duration": 67,
        "start_time": "2023-03-12T12:00:28.790Z"
      },
      {
        "duration": 258,
        "start_time": "2023-03-12T12:00:31.401Z"
      },
      {
        "duration": 326,
        "start_time": "2023-03-12T12:01:02.893Z"
      },
      {
        "duration": 50437,
        "start_time": "2023-03-12T12:01:05.628Z"
      },
      {
        "duration": 1275,
        "start_time": "2023-03-12T12:01:56.068Z"
      },
      {
        "duration": 218,
        "start_time": "2023-03-12T12:01:57.345Z"
      },
      {
        "duration": 3,
        "start_time": "2023-03-12T12:01:57.565Z"
      },
      {
        "duration": 1391,
        "start_time": "2023-03-12T12:02:43.236Z"
      },
      {
        "duration": 47,
        "start_time": "2023-03-12T12:03:26.383Z"
      },
      {
        "duration": 4,
        "start_time": "2023-03-12T12:03:37.993Z"
      },
      {
        "duration": 761,
        "start_time": "2023-03-12T12:04:30.876Z"
      },
      {
        "duration": 192,
        "start_time": "2023-03-12T12:05:35.015Z"
      },
      {
        "duration": 4,
        "start_time": "2023-03-12T12:06:03.997Z"
      },
      {
        "duration": 156,
        "start_time": "2023-03-12T12:06:04.755Z"
      },
      {
        "duration": 3,
        "start_time": "2023-03-12T12:06:13.005Z"
      },
      {
        "duration": 145,
        "start_time": "2023-03-12T12:06:13.626Z"
      },
      {
        "duration": 193,
        "start_time": "2023-03-12T12:06:24.928Z"
      },
      {
        "duration": 6,
        "start_time": "2023-03-12T12:06:25.228Z"
      },
      {
        "duration": 4,
        "start_time": "2023-03-12T12:06:26.289Z"
      },
      {
        "duration": 154,
        "start_time": "2023-03-12T12:06:26.641Z"
      },
      {
        "duration": 213,
        "start_time": "2023-03-12T12:09:27.566Z"
      },
      {
        "duration": 7,
        "start_time": "2023-03-12T12:09:28.895Z"
      },
      {
        "duration": 4,
        "start_time": "2023-03-12T12:09:29.881Z"
      },
      {
        "duration": 147,
        "start_time": "2023-03-12T12:09:30.247Z"
      },
      {
        "duration": 58,
        "start_time": "2023-03-12T12:12:48.230Z"
      },
      {
        "duration": 62,
        "start_time": "2023-03-12T12:14:29.543Z"
      },
      {
        "duration": 56,
        "start_time": "2023-03-12T12:14:35.542Z"
      },
      {
        "duration": 55,
        "start_time": "2023-03-12T12:14:43.091Z"
      },
      {
        "duration": 61,
        "start_time": "2023-03-12T12:15:07.139Z"
      },
      {
        "duration": 14537,
        "start_time": "2023-03-13T09:48:54.765Z"
      },
      {
        "duration": 2561,
        "start_time": "2023-03-13T09:49:09.304Z"
      },
      {
        "duration": 172,
        "start_time": "2023-03-13T09:49:11.867Z"
      },
      {
        "duration": 17262,
        "start_time": "2023-03-13T09:49:12.041Z"
      },
      {
        "duration": 19,
        "start_time": "2023-03-13T09:49:29.305Z"
      },
      {
        "duration": 5,
        "start_time": "2023-03-13T09:49:29.326Z"
      },
      {
        "duration": 23,
        "start_time": "2023-03-13T09:49:29.332Z"
      },
      {
        "duration": 12,
        "start_time": "2023-03-13T09:49:29.357Z"
      },
      {
        "duration": 55,
        "start_time": "2023-03-13T09:49:29.371Z"
      },
      {
        "duration": 20,
        "start_time": "2023-03-13T09:49:29.429Z"
      },
      {
        "duration": 5,
        "start_time": "2023-03-13T09:49:29.451Z"
      },
      {
        "duration": 17,
        "start_time": "2023-03-13T09:49:29.458Z"
      },
      {
        "duration": 48,
        "start_time": "2023-03-13T09:49:29.477Z"
      },
      {
        "duration": 85,
        "start_time": "2023-03-13T09:49:29.527Z"
      },
      {
        "duration": 13,
        "start_time": "2023-03-13T09:49:29.614Z"
      },
      {
        "duration": 28,
        "start_time": "2023-03-13T09:49:29.629Z"
      },
      {
        "duration": 63,
        "start_time": "2023-03-13T09:49:29.659Z"
      },
      {
        "duration": 8,
        "start_time": "2023-03-13T09:49:29.725Z"
      },
      {
        "duration": 407,
        "start_time": "2023-03-13T09:49:29.823Z"
      },
      {
        "duration": 12,
        "start_time": "2023-03-13T09:49:30.231Z"
      },
      {
        "duration": 344,
        "start_time": "2023-03-13T09:49:30.245Z"
      },
      {
        "duration": 49481,
        "start_time": "2023-03-13T09:49:30.591Z"
      },
      {
        "duration": 923,
        "start_time": "2023-03-13T09:50:20.074Z"
      },
      {
        "duration": 335,
        "start_time": "2023-03-13T09:50:21.000Z"
      },
      {
        "duration": 13,
        "start_time": "2023-03-13T09:50:21.336Z"
      },
      {
        "duration": 156,
        "start_time": "2023-03-13T09:50:21.351Z"
      },
      {
        "duration": 31,
        "start_time": "2023-03-13T09:50:21.508Z"
      },
      {
        "duration": 375,
        "start_time": "2023-03-13T09:50:21.621Z"
      },
      {
        "duration": 340,
        "start_time": "2023-03-13T09:50:21.998Z"
      },
      {
        "duration": 49801,
        "start_time": "2023-03-13T09:50:22.340Z"
      },
      {
        "duration": 1055,
        "start_time": "2023-03-13T09:51:12.143Z"
      },
      {
        "duration": 248,
        "start_time": "2023-03-13T09:51:13.199Z"
      },
      {
        "duration": 5,
        "start_time": "2023-03-13T09:51:13.448Z"
      },
      {
        "duration": 1405,
        "start_time": "2023-03-13T09:51:13.454Z"
      },
      {
        "duration": 5,
        "start_time": "2023-03-13T09:51:14.860Z"
      },
      {
        "duration": 739,
        "start_time": "2023-03-13T09:51:14.867Z"
      },
      {
        "duration": 77,
        "start_time": "2023-03-13T09:51:15.608Z"
      },
      {
        "duration": 300,
        "start_time": "2023-03-13T09:51:15.687Z"
      },
      {
        "duration": 6,
        "start_time": "2023-03-13T09:51:15.988Z"
      },
      {
        "duration": 5,
        "start_time": "2023-03-13T09:51:15.996Z"
      },
      {
        "duration": 205,
        "start_time": "2023-03-13T09:51:16.002Z"
      }
    ],
    "kernelspec": {
      "display_name": "Python 3 (ipykernel)",
      "language": "python",
      "name": "python3"
    },
    "language_info": {
      "codemirror_mode": {
        "name": "ipython",
        "version": 3
      },
      "file_extension": ".py",
      "mimetype": "text/x-python",
      "name": "python",
      "nbconvert_exporter": "python",
      "pygments_lexer": "ipython3",
      "version": "3.9.15"
    },
    "toc": {
      "base_numbering": 1,
      "nav_menu": {},
      "number_sections": true,
      "sideBar": true,
      "skip_h1_title": true,
      "title_cell": "Содержание",
      "title_sidebar": "Contents",
      "toc_cell": true,
      "toc_position": {
        "height": "calc(100% - 180px)",
        "left": "10px",
        "top": "150px",
        "width": "165px"
      },
      "toc_section_display": true,
      "toc_window_display": true
    },
    "colab": {
      "provenance": []
    }
  },
  "nbformat": 4,
  "nbformat_minor": 0
}